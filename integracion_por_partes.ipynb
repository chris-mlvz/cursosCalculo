{
 "metadata": {
  "language_info": {
   "codemirror_mode": {
    "name": "ipython",
    "version": 3
   },
   "file_extension": ".py",
   "mimetype": "text/x-python",
   "name": "python",
   "nbconvert_exporter": "python",
   "pygments_lexer": "ipython3",
   "version": "3.8.8"
  },
  "orig_nbformat": 2,
  "kernelspec": {
   "name": "python388jvsc74a57bd0c72a629dba5ae9edebcad565c17c3988d814021371aabb3db62cb04d2b10dbfe",
   "display_name": "Python 3.8.8 64-bit ('base': conda)"
  }
 },
 "nbformat": 4,
 "nbformat_minor": 2,
 "cells": [
  {
   "source": [
    "# Integración por partes"
   ],
   "cell_type": "markdown",
   "metadata": {}
  },
  {
   "cell_type": "code",
   "execution_count": 14,
   "metadata": {},
   "outputs": [],
   "source": [
    "import sympy as sp \n",
    "x, y, z, C, u, v, du, dv, dx = sp.symbols('x y z C u v du dv dx')\n",
    "sp.init_printing(use_latex='mathjax')"
   ]
  },
  {
   "source": [
    "## Método ALPES"
   ],
   "cell_type": "markdown",
   "metadata": {}
  },
  {
   "cell_type": "code",
   "execution_count": 7,
   "metadata": {},
   "outputs": [
    {
     "output_type": "execute_result",
     "data": {
      "text/plain": [
       " x       \n",
       "ℯ ⋅sin(x)"
      ],
      "text/latex": "$\\displaystyle e^{x} \\sin{\\left(x \\right)}$"
     },
     "metadata": {},
     "execution_count": 7
    }
   ],
   "source": [
    "function = sp.exp(x)*sp.sin(x)\n",
    "function"
   ]
  },
  {
   "cell_type": "code",
   "execution_count": 8,
   "metadata": {},
   "outputs": [
    {
     "output_type": "execute_result",
     "data": {
      "text/plain": [
       "⌠             \n",
       "⎮  x          \n",
       "⎮ ℯ ⋅sin(x) dx\n",
       "⌡             "
      ],
      "text/latex": "$\\displaystyle \\int e^{x} \\sin{\\left(x \\right)}\\, dx$"
     },
     "metadata": {},
     "execution_count": 8
    }
   ],
   "source": [
    "sp.Integral(function)"
   ]
  },
  {
   "cell_type": "code",
   "execution_count": 10,
   "metadata": {},
   "outputs": [
    {
     "output_type": "execute_result",
     "data": {
      "text/plain": [
       " x\n",
       "ℯ "
      ],
      "text/latex": "$\\displaystyle e^{x}$"
     },
     "metadata": {},
     "execution_count": 10
    }
   ],
   "source": [
    "u_value = sp.exp(x)\n",
    "u_value"
   ]
  },
  {
   "cell_type": "code",
   "execution_count": 18,
   "metadata": {},
   "outputs": [
    {
     "output_type": "execute_result",
     "data": {
      "text/plain": [
       "dx⋅sin(x)"
      ],
      "text/latex": "$\\displaystyle dx \\sin{\\left(x \\right)}$"
     },
     "metadata": {},
     "execution_count": 18
    }
   ],
   "source": [
    "dv_value = sp.sin(x)\n",
    "dv_value*dx"
   ]
  },
  {
   "source": [
    "## Integración por partes: potencias y funciones trigonométricas"
   ],
   "cell_type": "markdown",
   "metadata": {}
  },
  {
   "cell_type": "code",
   "execution_count": 20,
   "metadata": {},
   "outputs": [
    {
     "output_type": "execute_result",
     "data": {
      "text/plain": [
       "x⋅cos(x)"
      ],
      "text/latex": "$\\displaystyle x \\cos{\\left(x \\right)}$"
     },
     "metadata": {},
     "execution_count": 20
    }
   ],
   "source": [
    "# Función a integrar\n",
    "function = x*sp.cos(x)\n",
    "function"
   ]
  },
  {
   "cell_type": "code",
   "execution_count": 21,
   "metadata": {},
   "outputs": [
    {
     "output_type": "execute_result",
     "data": {
      "text/plain": [
       "⌠            \n",
       "⎮ x⋅cos(x) dx\n",
       "⌡            "
      ],
      "text/latex": "$\\displaystyle \\int x \\cos{\\left(x \\right)}\\, dx$"
     },
     "metadata": {},
     "execution_count": 21
    }
   ],
   "source": [
    "# Integral a resolver\n",
    "sp.Integral(function)"
   ]
  },
  {
   "cell_type": "code",
   "execution_count": 24,
   "metadata": {},
   "outputs": [
    {
     "output_type": "execute_result",
     "data": {
      "text/plain": [
       "x"
      ],
      "text/latex": "$\\displaystyle x$"
     },
     "metadata": {},
     "execution_count": 24
    }
   ],
   "source": [
    "# Valor de u\n",
    "u_value = x\n",
    "u_value"
   ]
  },
  {
   "cell_type": "code",
   "execution_count": 26,
   "metadata": {},
   "outputs": [
    {
     "output_type": "execute_result",
     "data": {
      "text/plain": [
       "1"
      ],
      "text/latex": "$\\displaystyle 1$"
     },
     "metadata": {},
     "execution_count": 26
    }
   ],
   "source": [
    "# Obtener dv mediante la derivada de u\n",
    "du_value = sp.diff(u_value)\n",
    "du_value"
   ]
  },
  {
   "cell_type": "code",
   "execution_count": 25,
   "metadata": {},
   "outputs": [
    {
     "output_type": "execute_result",
     "data": {
      "text/plain": [
       "dx⋅cos(x)"
      ],
      "text/latex": "$\\displaystyle dx \\cos{\\left(x \\right)}$"
     },
     "metadata": {},
     "execution_count": 25
    }
   ],
   "source": [
    "# Valor de dv\n",
    "dv_value = sp.cos(x)\n",
    "dv_value*dx"
   ]
  },
  {
   "cell_type": "code",
   "execution_count": 27,
   "metadata": {},
   "outputs": [
    {
     "output_type": "execute_result",
     "data": {
      "text/plain": [
       "sin(x)"
      ],
      "text/latex": "$\\displaystyle \\sin{\\left(x \\right)}$"
     },
     "metadata": {},
     "execution_count": 27
    }
   ],
   "source": [
    "# Obtener v mediante la integral de dv\n",
    "v_value = sp.integrate(dv_value,x)\n",
    "v_value"
   ]
  },
  {
   "cell_type": "code",
   "execution_count": null,
   "metadata": {},
   "outputs": [],
   "source": []
  }
 ]
}