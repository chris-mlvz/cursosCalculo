{
 "metadata": {
  "language_info": {
   "codemirror_mode": {
    "name": "ipython",
    "version": 3
   },
   "file_extension": ".py",
   "mimetype": "text/x-python",
   "name": "python",
   "nbconvert_exporter": "python",
   "pygments_lexer": "ipython3",
   "version": "3.8.8"
  },
  "orig_nbformat": 2,
  "kernelspec": {
   "name": "python388jvsc74a57bd0c72a629dba5ae9edebcad565c17c3988d814021371aabb3db62cb04d2b10dbfe",
   "display_name": "Python 3.8.8 64-bit ('base': conda)"
  }
 },
 "nbformat": 4,
 "nbformat_minor": 2,
 "cells": [
  {
   "source": [
    "# Integrales definidas"
   ],
   "cell_type": "markdown",
   "metadata": {}
  },
  {
   "cell_type": "code",
   "execution_count": 101,
   "metadata": {},
   "outputs": [],
   "source": [
    "import sympy as sp \n",
    "x, y, z, C, u, v, du, dv, dx = sp.symbols('x y z C u v du dv dx')\n",
    "sp.init_printing(use_latex='mathjax')"
   ]
  },
  {
   "cell_type": "code",
   "execution_count": 102,
   "metadata": {},
   "outputs": [],
   "source": [
    "def Fintegrate(function,lim_inf=0,lim_sup=0):\n",
    "    solution = sp.integrate(function, x)\n",
    "    solution_view = sp.Eq(sp.Integral(function),solution+C)\n",
    "\n",
    "    definite_solution = sp.integrate(function, (x,lim_inf,lim_sup))\n",
    "    define_solution_view = sp.Eq(sp.Integral(function,(x,lim_inf,lim_sup)),definite_solution)\n",
    "\n",
    "    values = {\n",
    "        'solution':solution, \n",
    "        'solution_view':solution_view,     \n",
    "        'definite_solution':definite_solution,\n",
    "        'definite_solution_view':define_solution_view}\n",
    "\n",
    "    return values"
   ]
  },
  {
   "source": [
    "## Integral definida simple"
   ],
   "cell_type": "markdown",
   "metadata": {}
  },
  {
   "cell_type": "code",
   "execution_count": 103,
   "metadata": {},
   "outputs": [
    {
     "output_type": "execute_result",
     "data": {
      "text/plain": [
       "   2\n",
       "3⋅x "
      ],
      "text/latex": "$\\displaystyle 3 x^{2}$"
     },
     "metadata": {},
     "execution_count": 103
    }
   ],
   "source": [
    "function = 3*x**(2)\n",
    "function"
   ]
  },
  {
   "cell_type": "code",
   "execution_count": 104,
   "metadata": {},
   "outputs": [],
   "source": [
    "integral_values = Fintegrate(function, lim_inf=0, lim_sup=3)"
   ]
  },
  {
   "cell_type": "code",
   "execution_count": 105,
   "metadata": {},
   "outputs": [
    {
     "output_type": "execute_result",
     "data": {
      "text/plain": [
       "⌠                 \n",
       "⎮    2           3\n",
       "⎮ 3⋅x  dx = C + x \n",
       "⌡                 "
      ],
      "text/latex": "$\\displaystyle \\int 3 x^{2}\\, dx = C + x^{3}$"
     },
     "metadata": {},
     "execution_count": 105
    }
   ],
   "source": [
    "integral_values['solution_view']"
   ]
  },
  {
   "cell_type": "code",
   "execution_count": 106,
   "metadata": {},
   "outputs": [
    {
     "output_type": "execute_result",
     "data": {
      "text/plain": [
       "3             \n",
       "⌠             \n",
       "⎮    2        \n",
       "⎮ 3⋅x  dx = 27\n",
       "⌡             \n",
       "0             "
      ],
      "text/latex": "$\\displaystyle \\int\\limits_{0}^{3} 3 x^{2}\\, dx = 27$"
     },
     "metadata": {},
     "execution_count": 106
    }
   ],
   "source": [
    "integral_values['definite_solution_view']"
   ]
  },
  {
   "source": [
    "## Integral definida polinomial"
   ],
   "cell_type": "markdown",
   "metadata": {}
  },
  {
   "cell_type": "code",
   "execution_count": 107,
   "metadata": {},
   "outputs": [
    {
     "output_type": "execute_result",
     "data": {
      "text/plain": [
       "1\n",
       "─\n",
       "x"
      ],
      "text/latex": "$\\displaystyle \\frac{1}{x}$"
     },
     "metadata": {},
     "execution_count": 107
    }
   ],
   "source": [
    "function = 1/x\n",
    "function"
   ]
  },
  {
   "cell_type": "code",
   "execution_count": 108,
   "metadata": {},
   "outputs": [],
   "source": [
    "integral_values = Fintegrate(function, lim_inf=1, lim_sup=sp.E)"
   ]
  },
  {
   "cell_type": "code",
   "execution_count": 109,
   "metadata": {},
   "outputs": [
    {
     "output_type": "execute_result",
     "data": {
      "text/plain": [
       "⌠                  \n",
       "⎮ 1                \n",
       "⎮ ─ dx = C + log(x)\n",
       "⎮ x                \n",
       "⌡                  "
      ],
      "text/latex": "$\\displaystyle \\int \\frac{1}{x}\\, dx = C + \\log{\\left(x \\right)}$"
     },
     "metadata": {},
     "execution_count": 109
    }
   ],
   "source": [
    "integral_values['solution_view']"
   ]
  },
  {
   "cell_type": "code",
   "execution_count": 110,
   "metadata": {},
   "outputs": [
    {
     "output_type": "execute_result",
     "data": {
      "text/plain": [
       "ℯ         \n",
       "⌠         \n",
       "⎮ 1       \n",
       "⎮ ─ dx = 1\n",
       "⎮ x       \n",
       "⌡         \n",
       "1         "
      ],
      "text/latex": "$\\displaystyle \\int\\limits_{1}^{e} \\frac{1}{x}\\, dx = 1$"
     },
     "metadata": {},
     "execution_count": 110
    }
   ],
   "source": [
    "integral_values['definite_solution_view']"
   ]
  },
  {
   "cell_type": "code",
   "execution_count": null,
   "metadata": {},
   "outputs": [],
   "source": []
  }
 ]
}