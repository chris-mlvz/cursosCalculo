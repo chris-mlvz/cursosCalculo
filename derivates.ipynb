{
 "metadata": {
  "language_info": {
   "codemirror_mode": {
    "name": "ipython",
    "version": 3
   },
   "file_extension": ".py",
   "mimetype": "text/x-python",
   "name": "python",
   "nbconvert_exporter": "python",
   "pygments_lexer": "ipython3",
   "version": "3.8.8"
  },
  "orig_nbformat": 2,
  "kernelspec": {
   "name": "python388jvsc74a57bd0c72a629dba5ae9edebcad565c17c3988d814021371aabb3db62cb04d2b10dbfe",
   "display_name": "Python 3.8.8 64-bit ('base': conda)"
  }
 },
 "nbformat": 4,
 "nbformat_minor": 2,
 "cells": [
  {
   "cell_type": "code",
   "execution_count": 14,
   "metadata": {},
   "outputs": [],
   "source": [
    "import sympy as sp\n",
    "x, y, z, a= sp.symbols('x y z a')\n",
    "sp.init_printing(use_latex='mathjax')"
   ]
  },
  {
   "cell_type": "code",
   "execution_count": 15,
   "metadata": {},
   "outputs": [
    {
     "output_type": "execute_result",
     "data": {
      "text/plain": [
       "    4      2       \n",
       "30⋅x  - 6⋅x  + 12⋅x"
      ],
      "text/latex": "$\\displaystyle 30 x^{4} - 6 x^{2} + 12 x$"
     },
     "metadata": {},
     "execution_count": 15
    }
   ],
   "source": [
    "# * Multiplicación de Funciones\n",
    "result = sp.diff((x**(3)+1)*(6*x**(2)-2), x)\n",
    "result_simplify = sp.simplify(result)\n",
    "result_expand = sp.expand(result)\n",
    "result_expand"
   ]
  },
  {
   "cell_type": "code",
   "execution_count": 16,
   "metadata": {},
   "outputs": [
    {
     "output_type": "execute_result",
     "data": {
      "text/plain": [
       " ⎛   2            ⎞ \n",
       "-⎝2⋅x  + 10⋅x + 15⎠ \n",
       "────────────────────\n",
       "  2 ⎛ 2          ⎞  \n",
       " x ⋅⎝x  + 6⋅x + 9⎠  "
      ],
      "text/latex": "$\\displaystyle - \\frac{2 x^{2} + 10 x + 15}{x^{2} \\left(x^{2} + 6 x + 9\\right)}$"
     },
     "metadata": {},
     "execution_count": 16
    }
   ],
   "source": [
    "# * Divición de Funciones\n",
    "result = sp.diff((2*x+5)/(x**(2)+3*x), x)\n",
    "result_simplify = sp.simplify(result)\n",
    "result_expand = sp.expand(result)\n",
    "result_simplify"
   ]
  },
  {
   "cell_type": "code",
   "execution_count": 17,
   "metadata": {},
   "outputs": [
    {
     "output_type": "execute_result",
     "data": {
      "text/plain": [
       "   -4     \n",
       "──────────\n",
       "         2\n",
       "(2⋅x + 1) "
      ],
      "text/latex": "$\\displaystyle - \\frac{4}{\\left(2 x + 1\\right)^{2}}$"
     },
     "metadata": {},
     "execution_count": 17
    }
   ],
   "source": [
    "# * Divición de Funciones II\n",
    "result = sp.diff((1-2*x)/(1+2*x), x)\n",
    "result_simplify = sp.simplify(result)\n",
    "result_expand = sp.expand(result)\n",
    "result_simplify"
   ]
  },
  {
   "cell_type": "code",
   "execution_count": 18,
   "metadata": {},
   "outputs": [
    {
     "output_type": "execute_result",
     "data": {
      "text/plain": [
       "       -2.0 ⎛           0.5            1.5⎞\n",
       "(x + 1)    ⋅⎝- x⋅(x + 1)    + 2⋅(x + 1)   ⎠"
      ],
      "text/latex": "$\\displaystyle \\frac{- 1.0 x \\left(x + 1\\right)^{0.5} + 2 \\left(x + 1\\right)^{1.5}}{\\left(x + 1\\right)^{2.0}}$"
     },
     "metadata": {},
     "execution_count": 18
    }
   ],
   "source": [
    "# * Divición de Funciones III\n",
    "result = sp.diff((2*x)/((x+1)**(1/2)), x)\n",
    "result_simplify = sp.radsimp(result)\n",
    "result_simplify\n"
   ]
  },
  {
   "cell_type": "code",
   "execution_count": 19,
   "metadata": {},
   "outputs": [
    {
     "output_type": "execute_result",
     "data": {
      "text/plain": [
       "1.06066017177982"
      ],
      "text/latex": "$\\displaystyle 1.06066017177982$"
     },
     "metadata": {},
     "execution_count": 19
    }
   ],
   "source": [
    "result_simplify.subs(x,1)"
   ]
  },
  {
   "cell_type": "code",
   "execution_count": 20,
   "metadata": {},
   "outputs": [
    {
     "output_type": "execute_result",
     "data": {
      "text/plain": [
       "           2\n",
       "9⋅(3⋅x + 6) "
      ],
      "text/latex": "$\\displaystyle 9 \\left(3 x + 6\\right)^{2}$"
     },
     "metadata": {},
     "execution_count": 20
    }
   ],
   "source": [
    "# * Potencias\n",
    "result = sp.diff(((3*x+6)**3), x)\n",
    "result_simplify = sp.simplify(result)\n",
    "result"
   ]
  },
  {
   "cell_type": "code",
   "execution_count": 21,
   "metadata": {},
   "outputs": [
    {
     "output_type": "execute_result",
     "data": {
      "text/plain": [
       "    2    ⎛    3⎞\n",
       "30⋅x ⋅cos⎝10⋅x ⎠"
      ],
      "text/latex": "$\\displaystyle 30 x^{2} \\cos{\\left(10 x^{3} \\right)}$"
     },
     "metadata": {},
     "execution_count": 21
    }
   ],
   "source": [
    "# Derivadas trigonométricas\n",
    "result = sp.diff(sp.sin(10*x**3), x)\n",
    "result_simplify = sp.trigsimp(result)\n",
    "result_simplify"
   ]
  },
  {
   "cell_type": "code",
   "execution_count": 22,
   "metadata": {},
   "outputs": [
    {
     "output_type": "execute_result",
     "data": {
      "text/plain": [
       "  ⎛   2⎛   ⎛   4⎞⎞    ⎞\n",
       "4⋅⎝tan ⎝log⎝8⋅x ⎠⎠ + 1⎠\n",
       "───────────────────────\n",
       "           x           "
      ],
      "text/latex": "$\\displaystyle \\frac{4 \\left(\\tan^{2}{\\left(\\log{\\left(8 x^{4} \\right)} \\right)} + 1\\right)}{x}$"
     },
     "metadata": {},
     "execution_count": 22
    }
   ],
   "source": [
    "result = sp.diff(sp.tan(sp.log(8*x**4)), x)\n",
    "result_simplify = sp.simplify(result)\n",
    "result_simplify"
   ]
  },
  {
   "cell_type": "code",
   "execution_count": 23,
   "metadata": {},
   "outputs": [
    {
     "output_type": "execute_result",
     "data": {
      "text/plain": [
       "  6⋅x   \n",
       "────────\n",
       "   4    \n",
       "9⋅x  + 1"
      ],
      "text/latex": "$\\displaystyle \\frac{6 x}{9 x^{4} + 1}$"
     },
     "metadata": {},
     "execution_count": 23
    }
   ],
   "source": [
    "result = sp.diff(sp.atan(3*x**2), x)\n",
    "result_simplify = sp.simplify(result)\n",
    "result_simplify"
   ]
  },
  {
   "cell_type": "code",
   "execution_count": 24,
   "metadata": {},
   "outputs": [
    {
     "output_type": "execute_result",
     "data": {
      "text/plain": [
       "          3          \n",
       "     -10⋅x   2       \n",
       "-30⋅a      ⋅x ⋅log(a)"
      ],
      "text/latex": "$\\displaystyle - 30 a^{- 10 x^{3}} x^{2} \\log{\\left(a \\right)}$"
     },
     "metadata": {},
     "execution_count": 24
    }
   ],
   "source": [
    "# Derivadas de funciones algebráicas\n",
    "result = sp.diff(a**(-10*x**(3)), x)\n",
    "result_simplify = sp.simplify(result)\n",
    "result_simplify "
   ]
  },
  {
   "cell_type": "code",
   "execution_count": 25,
   "metadata": {},
   "outputs": [
    {
     "output_type": "execute_result",
     "data": {
      "text/plain": [
       "         2    \n",
       "      9⋅x  + 7\n",
       "18⋅x⋅ℯ        "
      ],
      "text/latex": "$\\displaystyle 18 x e^{9 x^{2} + 7}$"
     },
     "metadata": {},
     "execution_count": 25
    }
   ],
   "source": [
    "# Exponenciales\n",
    "result = sp.diff(sp.exp(9*x**(2)+7), x)\n",
    "result_simplify = sp.simplify(result)\n",
    "result_simplify "
   ]
  },
  {
   "source": [
    "# Optimización"
   ],
   "cell_type": "markdown",
   "metadata": {}
  },
  {
   "cell_type": "code",
   "execution_count": 26,
   "metadata": {},
   "outputs": [
    {
     "output_type": "execute_result",
     "data": {
      "text/plain": [
       "           1250\n",
       "-b + 135 - ────\n",
       "            b  "
      ],
      "text/latex": "$\\displaystyle - b + 135 - \\frac{1250}{b}$"
     },
     "metadata": {},
     "execution_count": 26
    }
   ],
   "source": [
    "#Declaración de variables\n",
    "h, b = sp.symbols('h b')\n",
    "\n",
    "#area = b*h = 500\n",
    "#b = area/b\n",
    "area = 500\n",
    "\n",
    "# Reducción de expresión\n",
    "A1 = ((b-10)/4) * (h-4)\n",
    "A1 = A1.subs(h,area/b)\n",
    "A1 = A1.simplify()\n",
    "A1"
   ]
  },
  {
   "cell_type": "code",
   "execution_count": 27,
   "metadata": {},
   "outputs": [
    {
     "output_type": "execute_result",
     "data": {
      "text/plain": [
       "     1250\n",
       "-1 + ────\n",
       "       2 \n",
       "      b  "
      ],
      "text/latex": "$\\displaystyle -1 + \\frac{1250}{b^{2}}$"
     },
     "metadata": {},
     "execution_count": 27
    }
   ],
   "source": [
    "#Calculo de la primera derivada\n",
    "dA1 = sp.diff(A1, b)\n",
    "dA1"
   ]
  },
  {
   "cell_type": "code",
   "execution_count": 28,
   "metadata": {},
   "outputs": [
    {
     "output_type": "execute_result",
     "data": {
      "text/plain": [
       "[-25⋅√2, 25⋅√2]"
      ],
      "text/latex": "$\\displaystyle \\left[ - 25 \\sqrt{2}, \\  25 \\sqrt{2}\\right]$"
     },
     "metadata": {},
     "execution_count": 28
    }
   ],
   "source": [
    "# Resolver derivada = 0\n",
    "b_solve = sp.solve(dA1)\n",
    "b_solve"
   ]
  },
  {
   "cell_type": "code",
   "execution_count": 29,
   "metadata": {},
   "outputs": [
    {
     "output_type": "execute_result",
     "data": {
      "text/plain": [
       "25⋅√2"
      ],
      "text/latex": "$\\displaystyle 25 \\sqrt{2}$"
     },
     "metadata": {},
     "execution_count": 29
    }
   ],
   "source": [
    "# Seleccionar el valor positivo\n",
    "b_solve[1]"
   ]
  },
  {
   "cell_type": "code",
   "execution_count": 30,
   "metadata": {},
   "outputs": [
    {
     "output_type": "execute_result",
     "data": {
      "text/plain": [
       "-2500 \n",
       "──────\n",
       "   3  \n",
       "  b   "
      ],
      "text/latex": "$\\displaystyle - \\frac{2500}{b^{3}}$"
     },
     "metadata": {},
     "execution_count": 30
    }
   ],
   "source": [
    "#Calcular la segunda derivada\n",
    "d2A1 = sp.diff(A1, b, 2)\n",
    "d2A1 "
   ]
  },
  {
   "cell_type": "code",
   "execution_count": 31,
   "metadata": {},
   "outputs": [
    {
     "output_type": "execute_result",
     "data": {
      "text/plain": [
       "10⋅√2"
      ],
      "text/latex": "$\\displaystyle 10 \\sqrt{2}$"
     },
     "metadata": {},
     "execution_count": 31
    }
   ],
   "source": [
    "# Calcular valor de h\n",
    "h = 500/b_solve[1]\n",
    "h"
   ]
  },
  {
   "cell_type": "code",
   "execution_count": 32,
   "metadata": {},
   "outputs": [
    {
     "output_type": "execute_result",
     "data": {
      "text/plain": [
       "(25⋅√2, 10⋅√2)"
      ],
      "text/latex": "$\\displaystyle \\left( 25 \\sqrt{2}, \\  10 \\sqrt{2}\\right)$"
     },
     "metadata": {},
     "execution_count": 32
    }
   ],
   "source": [
    "#Resultados\n",
    "#Area del terreno = 500\n",
    "#Base del tanque 25*2**(1/2)\n",
    "#Altura del tanque 10*2**(1/2)\n",
    "b_solve[1],h"
   ]
  },
  {
   "source": [
    "# Derivadas Parciales"
   ],
   "cell_type": "markdown",
   "metadata": {}
  },
  {
   "cell_type": "code",
   "execution_count": 33,
   "metadata": {},
   "outputs": [
    {
     "output_type": "execute_result",
     "data": {
      "text/plain": [
       "⎛        2⎞\n",
       "⎝2⋅x⋅y, x ⎠"
      ],
      "text/latex": "$\\displaystyle \\left( 2 x y, \\  x^{2}\\right)$"
     },
     "metadata": {},
     "execution_count": 33
    }
   ],
   "source": [
    "# Derivadas Parciales\n",
    "result_x = sp.diff(x**(2)*y, x)\n",
    "result_y = sp.diff(x**(2)*y, y)\n",
    "result_x, result_y"
   ]
  },
  {
   "cell_type": "code",
   "execution_count": 34,
   "metadata": {},
   "outputs": [
    {
     "output_type": "execute_result",
     "data": {
      "text/plain": [
       "⎛     3       2  2     2  3⎞\n",
       "⎝2⋅x⋅y ⋅z, 3⋅x ⋅y ⋅z, x ⋅y ⎠"
      ],
      "text/latex": "$\\displaystyle \\left( 2 x y^{3} z, \\  3 x^{2} y^{2} z, \\  x^{2} y^{3}\\right)$"
     },
     "metadata": {},
     "execution_count": 34
    }
   ],
   "source": [
    "result_x = sp.diff(x**(2)*y**(3)*z, x)\n",
    "result_y = sp.diff(x**(2)*y**(3)*z, y)\n",
    "result_z = sp.diff(x**(2)*y**(3)*z, z)\n",
    "result_x, result_y, result_z"
   ]
  },
  {
   "source": [
    "Gradiente"
   ],
   "cell_type": "markdown",
   "metadata": {}
  },
  {
   "cell_type": "code",
   "execution_count": 35,
   "metadata": {},
   "outputs": [
    {
     "output_type": "execute_result",
     "data": {
      "text/plain": [
       "(2⋅x - y, -x)"
      ],
      "text/latex": "$\\displaystyle \\left( 2 x - y, \\  - x\\right)$"
     },
     "metadata": {},
     "execution_count": 35
    }
   ],
   "source": [
    "result_x = sp.diff(x**(2)-x*y, x)\n",
    "result_y = sp.diff(x**(2)-x*y, y)\n",
    "result_x, result_y"
   ]
  },
  {
   "cell_type": "code",
   "execution_count": 36,
   "metadata": {},
   "outputs": [
    {
     "output_type": "execute_result",
     "data": {
      "text/plain": [
       "(1 - y, -x, 2⋅z)"
      ],
      "text/latex": "$\\displaystyle \\left( 1 - y, \\  - x, \\  2 z\\right)$"
     },
     "metadata": {},
     "execution_count": 36
    }
   ],
   "source": [
    "result_x = sp.diff(x-x*y+z**(2), x)\n",
    "result_y = sp.diff(x-x*y+z**(2), y)\n",
    "result_z = sp.diff(x-x*y+z**(2), z)\n",
    "result_x, result_y, result_z"
   ]
  },
  {
   "source": [
    "# Examen - Optimización"
   ],
   "cell_type": "markdown",
   "metadata": {}
  },
  {
   "cell_type": "code",
   "execution_count": 37,
   "metadata": {},
   "outputs": [
    {
     "output_type": "execute_result",
     "data": {
      "text/plain": [
       "  ⎛       2⎞\n",
       "x⋅⎝300 - x ⎠\n",
       "────────────\n",
       "     4      "
      ],
      "text/latex": "$\\displaystyle \\frac{x \\left(300 - x^{2}\\right)}{4}$"
     },
     "metadata": {},
     "execution_count": 37
    }
   ],
   "source": [
    "# Reducción de expresión\n",
    "V = x*x*y\n",
    "y_value = (300-x**(2))/(4*x)\n",
    "V = V.subs(y, y_value)\n",
    "V = V.simplify()\n",
    "V\n",
    "\n"
   ]
  },
  {
   "cell_type": "code",
   "execution_count": 38,
   "metadata": {},
   "outputs": [
    {
     "output_type": "execute_result",
     "data": {
      "text/plain": [
       "        2\n",
       "     3⋅x \n",
       "75 - ────\n",
       "      4  "
      ],
      "text/latex": "$\\displaystyle 75 - \\frac{3 x^{2}}{4}$"
     },
     "metadata": {},
     "execution_count": 38
    }
   ],
   "source": [
    "dV = sp.diff(V, x)\n",
    "dV"
   ]
  },
  {
   "cell_type": "code",
   "execution_count": 39,
   "metadata": {},
   "outputs": [
    {
     "output_type": "execute_result",
     "data": {
      "text/plain": [
       "-3⋅x \n",
       "─────\n",
       "  2  "
      ],
      "text/latex": "$\\displaystyle - \\frac{3 x}{2}$"
     },
     "metadata": {},
     "execution_count": 39
    }
   ],
   "source": [
    "d2V = sp.diff(V, x,2)\n",
    "d2V"
   ]
  },
  {
   "cell_type": "code",
   "execution_count": 40,
   "metadata": {},
   "outputs": [
    {
     "output_type": "execute_result",
     "data": {
      "text/plain": [
       "[-10, 10]"
      ],
      "text/latex": "$\\displaystyle \\left[ -10, \\  10\\right]$"
     },
     "metadata": {},
     "execution_count": 40
    }
   ],
   "source": [
    "x_solve = sp.solve(dV)\n",
    "x_solve"
   ]
  },
  {
   "cell_type": "code",
   "execution_count": 41,
   "metadata": {},
   "outputs": [
    {
     "output_type": "execute_result",
     "data": {
      "text/plain": [
       "5"
      ],
      "text/latex": "$\\displaystyle 5$"
     },
     "metadata": {},
     "execution_count": 41
    }
   ],
   "source": [
    "result = y_value.subs(x,x_solve[1])\n",
    "result"
   ]
  }
 ]
}