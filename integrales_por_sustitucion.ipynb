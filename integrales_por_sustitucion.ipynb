{
 "metadata": {
  "language_info": {
   "codemirror_mode": {
    "name": "ipython",
    "version": 3
   },
   "file_extension": ".py",
   "mimetype": "text/x-python",
   "name": "python",
   "nbconvert_exporter": "python",
   "pygments_lexer": "ipython3",
   "version": "3.8.8"
  },
  "orig_nbformat": 2,
  "kernelspec": {
   "name": "python388jvsc74a57bd0c72a629dba5ae9edebcad565c17c3988d814021371aabb3db62cb04d2b10dbfe",
   "display_name": "Python 3.8.8 64-bit ('base': conda)"
  }
 },
 "nbformat": 4,
 "nbformat_minor": 2,
 "cells": [
  {
   "source": [
    "# Integración por sustitución"
   ],
   "cell_type": "markdown",
   "metadata": {}
  },
  {
   "cell_type": "code",
   "execution_count": 616,
   "metadata": {},
   "outputs": [],
   "source": [
    "import sympy as sp\n",
    "x, y, z, C, u, w, dx, du, dw= sp.symbols('x y z C u w dx du dw')\n",
    "sp.init_printing(use_latex='mathjax')"
   ]
  },
  {
   "source": [
    "## Solución de funciones compuestas con potencias"
   ],
   "cell_type": "markdown",
   "metadata": {}
  },
  {
   "cell_type": "code",
   "execution_count": 617,
   "metadata": {},
   "outputs": [
    {
     "output_type": "execute_result",
     "data": {
      "text/plain": [
       "     6               \n",
       "512⋅x        4      2\n",
       "────── + 64⋅x  + 8⋅x \n",
       "  3                  "
      ],
      "text/latex": "$\\displaystyle \\frac{512 x^{6}}{3} + 64 x^{4} + 8 x^{2}$"
     },
     "metadata": {},
     "execution_count": 617
    }
   ],
   "source": [
    "part1 = ((8*x**(2))+1)**(2)\n",
    "part2 = 16*x\n",
    "result = sp.integrate(part1*part2,x)\n",
    "result "
   ]
  },
  {
   "cell_type": "code",
   "execution_count": 618,
   "metadata": {},
   "outputs": [
    {
     "output_type": "execute_result",
     "data": {
      "text/plain": [
       "     6                   \n",
       "512⋅x        4      2   1\n",
       "────── + 64⋅x  + 8⋅x  + ─\n",
       "  3                     3"
      ],
      "text/latex": "$\\displaystyle \\frac{512 x^{6}}{3} + 64 x^{4} + 8 x^{2} + \\frac{1}{3}$"
     },
     "metadata": {},
     "execution_count": 618
    }
   ],
   "source": [
    "result = sp.integrate(u**(2),u)\n",
    "result = result.subs(u,(8*x**(2))+1)\n",
    "result.expand()"
   ]
  },
  {
   "source": [
    "## Ley de integración para potencias"
   ],
   "cell_type": "markdown",
   "metadata": {}
  },
  {
   "cell_type": "code",
   "execution_count": 619,
   "metadata": {},
   "outputs": [
    {
     "output_type": "execute_result",
     "data": {
      "text/plain": [
       "          3/2\n",
       "  ⎛ 3    ⎞   \n",
       "2⋅⎝x  + 1⎠   \n",
       "─────────────\n",
       "      9      "
      ],
      "text/latex": "$\\displaystyle \\frac{2 \\left(x^{3} + 1\\right)^{\\frac{3}{2}}}{9}$"
     },
     "metadata": {},
     "execution_count": 619
    }
   ],
   "source": [
    "part1 = (x**(3)+1)**sp.Rational(1,2)\n",
    "part2 = x**2\n",
    "result = sp.integrate(part1*part2,x)\n",
    "result.simplify()"
   ]
  },
  {
   "cell_type": "code",
   "execution_count": 620,
   "metadata": {},
   "outputs": [
    {
     "output_type": "execute_result",
     "data": {
      "text/plain": [
       "          3/2\n",
       "  ⎛ 3    ⎞   \n",
       "2⋅⎝x  + 1⎠   \n",
       "─────────────\n",
       "      9      "
      ],
      "text/latex": "$\\displaystyle \\frac{2 \\left(x^{3} + 1\\right)^{\\frac{3}{2}}}{9}$"
     },
     "metadata": {},
     "execution_count": 620
    }
   ],
   "source": [
    "result = sp.Rational(1,3)*sp.integrate(u**sp.Rational(1,2),u)\n",
    "result = result.subs(u,x**(3)+1)\n",
    "result"
   ]
  },
  {
   "source": [
    "## Integración de ecuaciones diferenciales simples"
   ],
   "cell_type": "markdown",
   "metadata": {}
  },
  {
   "cell_type": "code",
   "execution_count": 621,
   "metadata": {},
   "outputs": [
    {
     "output_type": "execute_result",
     "data": {
      "text/plain": [
       "     -1       \n",
       "──────────────\n",
       "   2          \n",
       "2⋅x  + 4⋅x - 6"
      ],
      "text/latex": "$\\displaystyle - \\frac{1}{2 x^{2} + 4 x - 6}$"
     },
     "metadata": {},
     "execution_count": 621
    }
   ],
   "source": [
    "part1 = (x**(2)+2*x-3)**(2)\n",
    "part2 = x+1\n",
    "result = sp.integrate(part2/part1,x)\n",
    "result.simplify()"
   ]
  },
  {
   "cell_type": "code",
   "execution_count": 622,
   "metadata": {},
   "outputs": [
    {
     "output_type": "execute_result",
     "data": {
      "text/plain": [
       "     -1       \n",
       "──────────────\n",
       "   2          \n",
       "2⋅x  + 4⋅x - 6"
      ],
      "text/latex": "$\\displaystyle - \\frac{1}{2 x^{2} + 4 x - 6}$"
     },
     "metadata": {},
     "execution_count": 622
    }
   ],
   "source": [
    "result = sp.Rational(1,2)*sp.integrate(1/(u**(2)),u)\n",
    "result = result.subs(u,x**(2)+2*x-3)\n",
    "result.simplify()"
   ]
  },
  {
   "source": [
    "## Práctica: integración de una ecuación diferencial"
   ],
   "cell_type": "markdown",
   "metadata": {}
  },
  {
   "cell_type": "code",
   "execution_count": 623,
   "metadata": {},
   "outputs": [
    {
     "output_type": "execute_result",
     "data": {
      "text/plain": [
       "      ________\n",
       "     ╱  3     \n",
       "20⋅╲╱  x  + 1 \n",
       "──────────────\n",
       "      3       "
      ],
      "text/latex": "$\\displaystyle \\frac{20 \\sqrt{x^{3} + 1}}{3}$"
     },
     "metadata": {},
     "execution_count": 623
    }
   ],
   "source": [
    "part1 = 10*x**2\n",
    "part2 = sp.sqrt(1 + x**3)\n",
    "result = sp.integrate(part1/part2,x)\n",
    "result.simplify()"
   ]
  },
  {
   "cell_type": "code",
   "execution_count": 624,
   "metadata": {},
   "outputs": [
    {
     "output_type": "execute_result",
     "data": {
      "text/plain": [
       "20⋅√u\n",
       "─────\n",
       "  3  "
      ],
      "text/latex": "$\\displaystyle \\frac{20 \\sqrt{u}}{3}$"
     },
     "metadata": {},
     "execution_count": 624
    }
   ],
   "source": [
    "result = sp.Rational(10,3)*sp.integrate(1/sp.sqrt(u),u)\n",
    "result"
   ]
  },
  {
   "cell_type": "code",
   "execution_count": 625,
   "metadata": {},
   "outputs": [
    {
     "output_type": "execute_result",
     "data": {
      "text/plain": [
       "      ________\n",
       "     ╱  3     \n",
       "20⋅╲╱  x  + 1 \n",
       "──────────────\n",
       "      3       "
      ],
      "text/latex": "$\\displaystyle \\frac{20 \\sqrt{x^{3} + 1}}{3}$"
     },
     "metadata": {},
     "execution_count": 625
    }
   ],
   "source": [
    "result = result.subs(u,1+x**3)\n",
    "result.simplify()"
   ]
  },
  {
   "source": [
    "## Integración con función exponencial"
   ],
   "cell_type": "markdown",
   "metadata": {}
  },
  {
   "cell_type": "code",
   "execution_count": 626,
   "metadata": {},
   "outputs": [
    {
     "output_type": "execute_result",
     "data": {
      "text/plain": [
       "⌠            \n",
       "⎮     ⎛ 3⎞   \n",
       "⎮  2  ⎝x ⎠   \n",
       "⎮ x ⋅ℯ     dx\n",
       "⌡            "
      ],
      "text/latex": "$\\displaystyle \\int x^{2} e^{x^{3}}\\, dx$"
     },
     "metadata": {},
     "execution_count": 626
    }
   ],
   "source": [
    "sp.Integral((x**(2))*(sp.exp(x**(3))),x)"
   ]
  },
  {
   "cell_type": "code",
   "execution_count": 627,
   "metadata": {},
   "outputs": [
    {
     "output_type": "execute_result",
     "data": {
      "text/plain": [
       " ⎛ 3⎞\n",
       " ⎝x ⎠\n",
       "ℯ    \n",
       "─────\n",
       "  3  "
      ],
      "text/latex": "$\\displaystyle \\frac{e^{x^{3}}}{3}$"
     },
     "metadata": {},
     "execution_count": 627
    }
   ],
   "source": [
    "result = sp.integrate((x**(2))*(sp.exp(x**(3))),x)\n",
    "result.simplify()"
   ]
  },
  {
   "cell_type": "code",
   "execution_count": 628,
   "metadata": {},
   "outputs": [
    {
     "output_type": "execute_result",
     "data": {
      "text/plain": [
       "⌠      \n",
       "⎮  u   \n",
       "⎮ ℯ  du\n",
       "⌡      \n",
       "───────\n",
       "   3   "
      ],
      "text/latex": "$\\displaystyle \\frac{\\int e^{u}\\, du}{3}$"
     },
     "metadata": {},
     "execution_count": 628
    }
   ],
   "source": [
    "sp.Rational(1,3)*sp.Integral(sp.exp(u),u)"
   ]
  },
  {
   "cell_type": "code",
   "execution_count": 629,
   "metadata": {},
   "outputs": [
    {
     "output_type": "execute_result",
     "data": {
      "text/plain": [
       " u\n",
       "ℯ \n",
       "──\n",
       "3 "
      ],
      "text/latex": "$\\displaystyle \\frac{e^{u}}{3}$"
     },
     "metadata": {},
     "execution_count": 629
    }
   ],
   "source": [
    "result = sp.Rational(1,3)*sp.integrate(sp.exp(u),u)\n",
    "result"
   ]
  },
  {
   "cell_type": "code",
   "execution_count": 630,
   "metadata": {},
   "outputs": [
    {
     "output_type": "execute_result",
     "data": {
      "text/plain": [
       " ⎛ 3⎞\n",
       " ⎝x ⎠\n",
       "ℯ    \n",
       "─────\n",
       "  3  "
      ],
      "text/latex": "$\\displaystyle \\frac{e^{x^{3}}}{3}$"
     },
     "metadata": {},
     "execution_count": 630
    }
   ],
   "source": [
    "result = result.subs(u,x**3)\n",
    "result.simplify()"
   ]
  },
  {
   "source": [
    "## Integración con función exponencial"
   ],
   "cell_type": "markdown",
   "metadata": {}
  },
  {
   "cell_type": "code",
   "execution_count": 631,
   "metadata": {},
   "outputs": [
    {
     "output_type": "execute_result",
     "data": {
      "text/plain": [
       "⌠            \n",
       "⎮    2       \n",
       "⎮ 3⋅x  + 1   \n",
       "⎮ ──────── dx\n",
       "⎮   3        \n",
       "⎮  x  + x    \n",
       "⌡            "
      ],
      "text/latex": "$\\displaystyle \\int \\frac{3 x^{2} + 1}{x^{3} + x}\\, dx$"
     },
     "metadata": {},
     "execution_count": 631
    }
   ],
   "source": [
    "part1 = 3*x**(2)+1\n",
    "part2 = x**(3)+x\n",
    "sp.Integral(part1/part2,x)"
   ]
  },
  {
   "cell_type": "code",
   "execution_count": 632,
   "metadata": {},
   "outputs": [
    {
     "output_type": "execute_result",
     "data": {
      "text/plain": [
       "   ⎛ 3    ⎞\n",
       "log⎝x  + x⎠"
      ],
      "text/latex": "$\\displaystyle \\log{\\left(x^{3} + x \\right)}$"
     },
     "metadata": {},
     "execution_count": 632
    }
   ],
   "source": [
    "result = sp.integrate(part1/part2,x)\n",
    "result"
   ]
  },
  {
   "cell_type": "code",
   "execution_count": 633,
   "metadata": {},
   "outputs": [
    {
     "output_type": "execute_result",
     "data": {
      "text/plain": [
       "⌠     \n",
       "⎮ 1   \n",
       "⎮ ─ du\n",
       "⎮ u   \n",
       "⌡     "
      ],
      "text/latex": "$\\displaystyle \\int \\frac{1}{u}\\, du$"
     },
     "metadata": {},
     "execution_count": 633
    }
   ],
   "source": [
    "sp.Integral(1/u,u)"
   ]
  },
  {
   "cell_type": "code",
   "execution_count": 634,
   "metadata": {},
   "outputs": [
    {
     "output_type": "execute_result",
     "data": {
      "text/plain": [
       "log(u)"
      ],
      "text/latex": "$\\displaystyle \\log{\\left(u \\right)}$"
     },
     "metadata": {},
     "execution_count": 634
    }
   ],
   "source": [
    "result = sp.integrate(1/u,u)\n",
    "result"
   ]
  },
  {
   "cell_type": "code",
   "execution_count": 635,
   "metadata": {},
   "outputs": [
    {
     "output_type": "execute_result",
     "data": {
      "text/plain": [
       "   ⎛ 3    ⎞\n",
       "log⎝x  + x⎠"
      ],
      "text/latex": "$\\displaystyle \\log{\\left(x^{3} + x \\right)}$"
     },
     "metadata": {},
     "execution_count": 635
    }
   ],
   "source": [
    "result = result.subs(u, x**(3)+x)\n",
    "result"
   ]
  },
  {
   "source": [
    "## Integración con doble sustitución"
   ],
   "cell_type": "markdown",
   "metadata": {}
  },
  {
   "cell_type": "code",
   "execution_count": 636,
   "metadata": {},
   "outputs": [
    {
     "output_type": "execute_result",
     "data": {
      "text/plain": [
       "⌠                               \n",
       "⎮            8    ⎛        9⎞   \n",
       "⎮  2 ⎛ 3    ⎞     ⎜⎛ 3    ⎞ ⎟   \n",
       "⎮ x ⋅⎝x  + 5⎠ ⋅cos⎝⎝x  + 5⎠ ⎠ dx\n",
       "⌡                               "
      ],
      "text/latex": "$\\displaystyle \\int x^{2} \\left(x^{3} + 5\\right)^{8} \\cos{\\left(\\left(x^{3} + 5\\right)^{9} \\right)}\\, dx$"
     },
     "metadata": {},
     "execution_count": 636
    }
   ],
   "source": [
    "part1 = (x**(3))+5\n",
    "part2 = (x**(2))*(part1**(8))\n",
    "part3 = sp.cos(part1**(9))\n",
    "function = part2*part3\n",
    "integral = sp.Integral(function,x)\n",
    "integral"
   ]
  },
  {
   "source": [
    "# result = sp.integrate(function,x)\n",
    "# result"
   ],
   "cell_type": "code",
   "metadata": {},
   "execution_count": 637,
   "outputs": []
  },
  {
   "cell_type": "code",
   "execution_count": 638,
   "metadata": {},
   "outputs": [
    {
     "output_type": "execute_result",
     "data": {
      "text/plain": [
       " 3    \n",
       "x  + 5"
      ],
      "text/latex": "$\\displaystyle x^{3} + 5$"
     },
     "metadata": {},
     "execution_count": 638
    }
   ],
   "source": [
    "# u\n",
    "u_value = x**(3)+5\n",
    "u_value"
   ]
  },
  {
   "cell_type": "code",
   "execution_count": 639,
   "metadata": {},
   "outputs": [
    {
     "output_type": "execute_result",
     "data": {
      "text/plain": [
       "   2\n",
       "3⋅x "
      ],
      "text/latex": "$\\displaystyle 3 x^{2}$"
     },
     "metadata": {},
     "execution_count": 639
    }
   ],
   "source": [
    "du_value = sp.diff(u_value,x)\n",
    "du_value"
   ]
  },
  {
   "cell_type": "code",
   "execution_count": 640,
   "metadata": {},
   "outputs": [
    {
     "output_type": "execute_result",
     "data": {
      "text/plain": [
       "        8    ⎛        9⎞\n",
       "⎛ 3    ⎞     ⎜⎛ 3    ⎞ ⎟\n",
       "⎝x  + 5⎠ ⋅cos⎝⎝x  + 5⎠ ⎠\n",
       "────────────────────────\n",
       "           3            "
      ],
      "text/latex": "$\\displaystyle \\frac{\\left(x^{3} + 5\\right)^{8} \\cos{\\left(\\left(x^{3} + 5\\right)^{9} \\right)}}{3}$"
     },
     "metadata": {},
     "execution_count": 640
    }
   ],
   "source": [
    "function_du = function/du_value\n",
    "function_du"
   ]
  },
  {
   "cell_type": "code",
   "execution_count": 641,
   "metadata": {},
   "outputs": [
    {
     "output_type": "execute_result",
     "data": {
      "text/plain": [
       " 8    ⎛ 9⎞\n",
       "u ⋅cos⎝u ⎠\n",
       "──────────\n",
       "    3     "
      ],
      "text/latex": "$\\displaystyle \\frac{u^{8} \\cos{\\left(u^{9} \\right)}}{3}$"
     },
     "metadata": {},
     "execution_count": 641
    }
   ],
   "source": [
    "function_u = function_du.subs(x**(3)+5,u)\n",
    "function_u"
   ]
  },
  {
   "cell_type": "code",
   "execution_count": 642,
   "metadata": {},
   "outputs": [
    {
     "output_type": "execute_result",
     "data": {
      "text/plain": [
       "⌠              \n",
       "⎮  8    ⎛ 9⎞   \n",
       "⎮ u ⋅cos⎝u ⎠   \n",
       "⎮ ────────── du\n",
       "⎮     3        \n",
       "⌡              "
      ],
      "text/latex": "$\\displaystyle \\int \\frac{u^{8} \\cos{\\left(u^{9} \\right)}}{3}\\, du$"
     },
     "metadata": {},
     "execution_count": 642
    }
   ],
   "source": [
    "sp.Integral(function_u,u)"
   ]
  },
  {
   "cell_type": "code",
   "execution_count": 643,
   "metadata": {},
   "outputs": [
    {
     "output_type": "execute_result",
     "data": {
      "text/plain": [
       " 9\n",
       "u "
      ],
      "text/latex": "$\\displaystyle u^{9}$"
     },
     "metadata": {},
     "execution_count": 643
    }
   ],
   "source": [
    "# u\n",
    "w_value = u**(9)\n",
    "w_value"
   ]
  },
  {
   "cell_type": "code",
   "execution_count": 644,
   "metadata": {},
   "outputs": [
    {
     "output_type": "execute_result",
     "data": {
      "text/plain": [
       "   8\n",
       "9⋅u "
      ],
      "text/latex": "$\\displaystyle 9 u^{8}$"
     },
     "metadata": {},
     "execution_count": 644
    }
   ],
   "source": [
    "#du\n",
    "dw_value = sp.diff(u**(9))\n",
    "dw_value"
   ]
  },
  {
   "cell_type": "code",
   "execution_count": 645,
   "metadata": {},
   "outputs": [
    {
     "output_type": "execute_result",
     "data": {
      "text/plain": [
       "   ⎛ 9⎞\n",
       "cos⎝u ⎠\n",
       "───────\n",
       "   27  "
      ],
      "text/latex": "$\\displaystyle \\frac{\\cos{\\left(u^{9} \\right)}}{27}$"
     },
     "metadata": {},
     "execution_count": 645
    }
   ],
   "source": [
    "function_dw = function_u/dw_value\n",
    "function_dw"
   ]
  },
  {
   "cell_type": "code",
   "execution_count": 646,
   "metadata": {},
   "outputs": [
    {
     "output_type": "execute_result",
     "data": {
      "text/plain": [
       "cos(w)\n",
       "──────\n",
       "  27  "
      ],
      "text/latex": "$\\displaystyle \\frac{\\cos{\\left(w \\right)}}{27}$"
     },
     "metadata": {},
     "execution_count": 646
    }
   ],
   "source": [
    "function_w = function_dw.subs(u**9,w)\n",
    "function_w"
   ]
  },
  {
   "source": [
    "sp.Integral(function_w,w)"
   ],
   "cell_type": "code",
   "metadata": {},
   "execution_count": 647,
   "outputs": [
    {
     "output_type": "execute_result",
     "data": {
      "text/plain": [
       "⌠          \n",
       "⎮ cos(w)   \n",
       "⎮ ────── dw\n",
       "⎮   27     \n",
       "⌡          "
      ],
      "text/latex": "$\\displaystyle \\int \\frac{\\cos{\\left(w \\right)}}{27}\\, dw$"
     },
     "metadata": {},
     "execution_count": 647
    }
   ]
  },
  {
   "source": [
    "### Solución"
   ],
   "cell_type": "markdown",
   "metadata": {}
  },
  {
   "cell_type": "code",
   "execution_count": 648,
   "metadata": {},
   "outputs": [
    {
     "output_type": "execute_result",
     "data": {
      "text/plain": [
       "sin(w)\n",
       "──────\n",
       "  27  "
      ],
      "text/latex": "$\\displaystyle \\frac{\\sin{\\left(w \\right)}}{27}$"
     },
     "metadata": {},
     "execution_count": 648
    }
   ],
   "source": [
    "result = sp.integrate(function_w,w)\n",
    "result"
   ]
  },
  {
   "cell_type": "code",
   "execution_count": 649,
   "metadata": {},
   "outputs": [
    {
     "output_type": "execute_result",
     "data": {
      "text/plain": [
       "   ⎛ 9⎞\n",
       "sin⎝u ⎠\n",
       "───────\n",
       "   27  "
      ],
      "text/latex": "$\\displaystyle \\frac{\\sin{\\left(u^{9} \\right)}}{27}$"
     },
     "metadata": {},
     "execution_count": 649
    }
   ],
   "source": [
    "# Primera sustitución\n",
    "result = result.subs(w,u**(9))\n",
    "result"
   ]
  },
  {
   "cell_type": "code",
   "execution_count": 650,
   "metadata": {},
   "outputs": [
    {
     "output_type": "execute_result",
     "data": {
      "text/plain": [
       "   ⎛        9⎞\n",
       "   ⎜⎛ 3    ⎞ ⎟\n",
       "sin⎝⎝x  + 5⎠ ⎠\n",
       "──────────────\n",
       "      27      "
      ],
      "text/latex": "$\\displaystyle \\frac{\\sin{\\left(\\left(x^{3} + 5\\right)^{9} \\right)}}{27}$"
     },
     "metadata": {},
     "execution_count": 650
    }
   ],
   "source": [
    "# Segunda sustitución\n",
    "result = result.subs(u,x**(3)+5)\n",
    "result"
   ]
  },
  {
   "source": [
    "## Integración con funciones trigonométricas"
   ],
   "cell_type": "markdown",
   "metadata": {}
  },
  {
   "cell_type": "code",
   "execution_count": 651,
   "metadata": {},
   "outputs": [
    {
     "output_type": "execute_result",
     "data": {
      "text/plain": [
       " cos(x)       \n",
       "ℯ      ⋅sin(x)"
      ],
      "text/latex": "$\\displaystyle e^{\\cos{\\left(x \\right)}} \\sin{\\left(x \\right)}$"
     },
     "metadata": {},
     "execution_count": 651
    }
   ],
   "source": [
    "function = sp.exp(sp.cos(x))*sp.sin(x)\n",
    "function"
   ]
  },
  {
   "cell_type": "code",
   "execution_count": 652,
   "metadata": {},
   "outputs": [
    {
     "output_type": "execute_result",
     "data": {
      "text/plain": [
       "⌠                  \n",
       "⎮  cos(x)          \n",
       "⎮ ℯ      ⋅sin(x) dx\n",
       "⌡                  "
      ],
      "text/latex": "$\\displaystyle \\int e^{\\cos{\\left(x \\right)}} \\sin{\\left(x \\right)}\\, dx$"
     },
     "metadata": {},
     "execution_count": 652
    }
   ],
   "source": [
    "sp.Integral(function, x)"
   ]
  },
  {
   "source": [
    "* Solución Directa"
   ],
   "cell_type": "markdown",
   "metadata": {}
  },
  {
   "cell_type": "code",
   "execution_count": 653,
   "metadata": {},
   "outputs": [
    {
     "output_type": "execute_result",
     "data": {
      "text/plain": [
       "  cos(x)\n",
       "-ℯ      "
      ],
      "text/latex": "$\\displaystyle - e^{\\cos{\\left(x \\right)}}$"
     },
     "metadata": {},
     "execution_count": 653
    }
   ],
   "source": [
    "sp.integrate(function, x)"
   ]
  },
  {
   "source": [
    "* Solución por sutitución"
   ],
   "cell_type": "markdown",
   "metadata": {}
  },
  {
   "cell_type": "code",
   "execution_count": 654,
   "metadata": {},
   "outputs": [
    {
     "output_type": "execute_result",
     "data": {
      "text/plain": [
       "cos(x)"
      ],
      "text/latex": "$\\displaystyle \\cos{\\left(x \\right)}$"
     },
     "metadata": {},
     "execution_count": 654
    }
   ],
   "source": [
    "u_value = sp.cos(x)\n",
    "u_value"
   ]
  },
  {
   "cell_type": "code",
   "execution_count": 655,
   "metadata": {},
   "outputs": [
    {
     "output_type": "execute_result",
     "data": {
      "text/plain": [
       "-sin(x)"
      ],
      "text/latex": "$\\displaystyle - \\sin{\\left(x \\right)}$"
     },
     "metadata": {},
     "execution_count": 655
    }
   ],
   "source": [
    "du = -sp.sin(x)\n",
    "du"
   ]
  },
  {
   "source": [
    "Función con variable sustituida"
   ],
   "cell_type": "markdown",
   "metadata": {}
  },
  {
   "cell_type": "code",
   "execution_count": 656,
   "metadata": {},
   "outputs": [
    {
     "output_type": "execute_result",
     "data": {
      "text/plain": [
       "  cos(x)\n",
       "-ℯ      "
      ],
      "text/latex": "$\\displaystyle - e^{\\cos{\\left(x \\right)}}$"
     },
     "metadata": {},
     "execution_count": 656
    }
   ],
   "source": [
    "function_du = function/du\n",
    "function_du"
   ]
  },
  {
   "cell_type": "code",
   "execution_count": 657,
   "metadata": {},
   "outputs": [
    {
     "output_type": "execute_result",
     "data": {
      "text/plain": [
       "  u\n",
       "-ℯ "
      ],
      "text/latex": "$\\displaystyle - e^{u}$"
     },
     "metadata": {},
     "execution_count": 657
    }
   ],
   "source": [
    "function_u = function_du.subs(sp.cos(x),u)\n",
    "function_u"
   ]
  },
  {
   "source": [
    "Integrar respecto a u"
   ],
   "cell_type": "markdown",
   "metadata": {}
  },
  {
   "cell_type": "code",
   "execution_count": 658,
   "metadata": {},
   "outputs": [
    {
     "output_type": "execute_result",
     "data": {
      "text/plain": [
       "⌠       \n",
       "⎮   u   \n",
       "⎮ -ℯ  du\n",
       "⌡       "
      ],
      "text/latex": "$\\displaystyle \\int \\left(- e^{u}\\right)\\, du$"
     },
     "metadata": {},
     "execution_count": 658
    }
   ],
   "source": [
    "sp.Integral(funtion_u)"
   ]
  },
  {
   "source": [
    "Solución"
   ],
   "cell_type": "markdown",
   "metadata": {}
  },
  {
   "cell_type": "code",
   "execution_count": 659,
   "metadata": {},
   "outputs": [
    {
     "output_type": "execute_result",
     "data": {
      "text/plain": [
       "  u\n",
       "-ℯ "
      ],
      "text/latex": "$\\displaystyle - e^{u}$"
     },
     "metadata": {},
     "execution_count": 659
    }
   ],
   "source": [
    "result = sp.integrate(funtion_u,u)\n",
    "result"
   ]
  },
  {
   "source": [
    "Regresar cambio de variable"
   ],
   "cell_type": "markdown",
   "metadata": {}
  },
  {
   "cell_type": "code",
   "execution_count": 660,
   "metadata": {},
   "outputs": [
    {
     "output_type": "execute_result",
     "data": {
      "text/plain": [
       "     cos(x)\n",
       "C - ℯ      "
      ],
      "text/latex": "$\\displaystyle C - e^{\\cos{\\left(x \\right)}}$"
     },
     "metadata": {},
     "execution_count": 660
    }
   ],
   "source": [
    "result = result.subs(u,sp.cos(x))\n",
    "result + C"
   ]
  },
  {
   "source": [
    "## Integración usando identidades trigonométricas"
   ],
   "cell_type": "markdown",
   "metadata": {}
  },
  {
   "cell_type": "code",
   "execution_count": 661,
   "metadata": {},
   "outputs": [
    {
     "output_type": "execute_result",
     "data": {
      "text/plain": [
       "   3       2   \n",
       "sin (x)⋅cos (x)"
      ],
      "text/latex": "$\\displaystyle \\sin^{3}{\\left(x \\right)} \\cos^{2}{\\left(x \\right)}$"
     },
     "metadata": {},
     "execution_count": 661
    }
   ],
   "source": [
    "part1 = (sp.sin(x))**(3)\n",
    "part2 = (sp.cos(x))**(2)\n",
    "function = part1*part2\n",
    "function"
   ]
  },
  {
   "source": [
    "Reescribiendo"
   ],
   "cell_type": "markdown",
   "metadata": {}
  },
  {
   "cell_type": "code",
   "execution_count": 662,
   "metadata": {},
   "outputs": [
    {
     "output_type": "execute_result",
     "data": {
      "text/plain": [
       "   3       2   \n",
       "sin (x)⋅cos (x)"
      ],
      "text/latex": "$\\displaystyle \\sin^{3}{\\left(x \\right)} \\cos^{2}{\\left(x \\right)}$"
     },
     "metadata": {},
     "execution_count": 662
    }
   ],
   "source": [
    "part1 = sp.sin(x)\n",
    "part2 = (sp.sin(x))**(2)\n",
    "part3 = (sp.cos(x))**(2)\n",
    "function = part1*part2*part3\n",
    "function "
   ]
  },
  {
   "cell_type": "code",
   "execution_count": 663,
   "metadata": {},
   "outputs": [
    {
     "output_type": "execute_result",
     "data": {
      "text/plain": [
       "⌠                   \n",
       "⎮    3       2      \n",
       "⎮ sin (x)⋅cos (x) dx\n",
       "⌡                   "
      ],
      "text/latex": "$\\displaystyle \\int \\sin^{3}{\\left(x \\right)} \\cos^{2}{\\left(x \\right)}\\, dx$"
     },
     "metadata": {},
     "execution_count": 663
    }
   ],
   "source": [
    "sp.Integral(function,x)"
   ]
  },
  {
   "source": [
    "* Solución directa"
   ],
   "cell_type": "markdown",
   "metadata": {}
  },
  {
   "cell_type": "code",
   "execution_count": 664,
   "metadata": {},
   "outputs": [
    {
     "output_type": "execute_result",
     "data": {
      "text/plain": [
       "   5         3   \n",
       "cos (x)   cos (x)\n",
       "─────── - ───────\n",
       "   5         3   "
      ],
      "text/latex": "$\\displaystyle \\frac{\\cos^{5}{\\left(x \\right)}}{5} - \\frac{\\cos^{3}{\\left(x \\right)}}{3}$"
     },
     "metadata": {},
     "execution_count": 664
    }
   ],
   "source": [
    "result = sp.integrate(function,x)\n",
    "result"
   ]
  },
  {
   "source": [
    "* Solución por sustitución"
   ],
   "cell_type": "markdown",
   "metadata": {}
  },
  {
   "cell_type": "code",
   "execution_count": 665,
   "metadata": {},
   "outputs": [
    {
     "output_type": "execute_result",
     "data": {
      "text/plain": [
       "   2             2   \n",
       "sin (x) = 1 - cos (x)"
      ],
      "text/latex": "$\\displaystyle \\sin^{2}{\\left(x \\right)} = 1 - \\cos^{2}{\\left(x \\right)}$"
     },
     "metadata": {},
     "execution_count": 665
    }
   ],
   "source": [
    "#Identidad trigonomética\n",
    "sp.Eq((sp.sin(x))**(2), 1 - (sp.cos(x))**2)"
   ]
  },
  {
   "cell_type": "code",
   "execution_count": 666,
   "metadata": {},
   "outputs": [
    {
     "output_type": "execute_result",
     "data": {
      "text/plain": [
       "⎛       2   ⎞           2   \n",
       "⎝1 - cos (x)⎠⋅sin(x)⋅cos (x)"
      ],
      "text/latex": "$\\displaystyle \\left(1 - \\cos^{2}{\\left(x \\right)}\\right) \\sin{\\left(x \\right)} \\cos^{2}{\\left(x \\right)}$"
     },
     "metadata": {},
     "execution_count": 666
    }
   ],
   "source": [
    "part1 = 1 - sp.cos(x)**2\n",
    "part2 = sp.sin(x)\n",
    "part3 = (sp.cos(x))**(2)\n",
    "function = part1*part2*part3\n",
    "function "
   ]
  },
  {
   "cell_type": "code",
   "execution_count": 667,
   "metadata": {},
   "outputs": [
    {
     "output_type": "execute_result",
     "data": {
      "text/plain": [
       "          2   \n",
       "sin(x)⋅cos (x)"
      ],
      "text/latex": "$\\displaystyle \\sin{\\left(x \\right)} \\cos^{2}{\\left(x \\right)}$"
     },
     "metadata": {},
     "execution_count": 667
    }
   ],
   "source": [
    "# Aplicar distributiva para crear dos funciones a integrar\n",
    "function1 = 1*part2*part3\n",
    "function1"
   ]
  },
  {
   "cell_type": "code",
   "execution_count": 668,
   "metadata": {},
   "outputs": [
    {
     "output_type": "execute_result",
     "data": {
      "text/plain": [
       "          4   \n",
       "sin(x)⋅cos (x)"
      ],
      "text/latex": "$\\displaystyle \\sin{\\left(x \\right)} \\cos^{4}{\\left(x \\right)}$"
     },
     "metadata": {},
     "execution_count": 668
    }
   ],
   "source": [
    "function2 = sp.cos(x)**2*part2*part3\n",
    "function2"
   ]
  },
  {
   "cell_type": "code",
   "execution_count": 669,
   "metadata": {},
   "outputs": [
    {
     "output_type": "execute_result",
     "data": {
      "text/plain": [
       "⌠                     ⌠                  \n",
       "⎮           2         ⎮           4      \n",
       "⎮ sin(x)⋅cos (x) dx - ⎮ sin(x)⋅cos (x) dx\n",
       "⌡                     ⌡                  "
      ],
      "text/latex": "$\\displaystyle \\int \\sin{\\left(x \\right)} \\cos^{2}{\\left(x \\right)}\\, dx - \\int \\sin{\\left(x \\right)} \\cos^{4}{\\left(x \\right)}\\, dx$"
     },
     "metadata": {},
     "execution_count": 669
    }
   ],
   "source": [
    "sp.Integral(function1)-sp.Integral(function2)"
   ]
  },
  {
   "source": [
    "Funcion con variable de u"
   ],
   "cell_type": "markdown",
   "metadata": {}
  },
  {
   "cell_type": "code",
   "execution_count": 670,
   "metadata": {},
   "outputs": [
    {
     "output_type": "execute_result",
     "data": {
      "text/plain": [
       "cos(x)"
      ],
      "text/latex": "$\\displaystyle \\cos{\\left(x \\right)}$"
     },
     "metadata": {},
     "execution_count": 670
    }
   ],
   "source": [
    "#u\n",
    "u_value = sp.cos(x)\n",
    "u_value "
   ]
  },
  {
   "cell_type": "code",
   "execution_count": 671,
   "metadata": {},
   "outputs": [
    {
     "output_type": "execute_result",
     "data": {
      "text/plain": [
       "-sin(x)"
      ],
      "text/latex": "$\\displaystyle - \\sin{\\left(x \\right)}$"
     },
     "metadata": {},
     "execution_count": 671
    }
   ],
   "source": [
    "du_value = sp.diff(u_value)\n",
    "du_value"
   ]
  },
  {
   "cell_type": "code",
   "execution_count": 672,
   "metadata": {},
   "outputs": [
    {
     "output_type": "execute_result",
     "data": {
      "text/plain": [
       "    2   \n",
       "-cos (x)"
      ],
      "text/latex": "$\\displaystyle - \\cos^{2}{\\left(x \\right)}$"
     },
     "metadata": {},
     "execution_count": 672
    }
   ],
   "source": [
    "function1_du = function1/du_value\n",
    "function1_du"
   ]
  },
  {
   "cell_type": "code",
   "execution_count": 673,
   "metadata": {},
   "outputs": [
    {
     "output_type": "execute_result",
     "data": {
      "text/plain": [
       "    4   \n",
       "-cos (x)"
      ],
      "text/latex": "$\\displaystyle - \\cos^{4}{\\left(x \\right)}$"
     },
     "metadata": {},
     "execution_count": 673
    }
   ],
   "source": [
    "function2_du = function2/du_value\n",
    "function2_du"
   ]
  },
  {
   "source": [
    "Integral con variable u "
   ],
   "cell_type": "markdown",
   "metadata": {}
  },
  {
   "cell_type": "code",
   "execution_count": 674,
   "metadata": {},
   "outputs": [
    {
     "output_type": "execute_result",
     "data": {
      "text/plain": [
       "  2\n",
       "-u "
      ],
      "text/latex": "$\\displaystyle - u^{2}$"
     },
     "metadata": {},
     "execution_count": 674
    }
   ],
   "source": [
    "function1_u = function1_du.subs(u_value, u)\n",
    "function1_u"
   ]
  },
  {
   "cell_type": "code",
   "execution_count": 675,
   "metadata": {},
   "outputs": [
    {
     "output_type": "execute_result",
     "data": {
      "text/plain": [
       "  4\n",
       "-u "
      ],
      "text/latex": "$\\displaystyle - u^{4}$"
     },
     "metadata": {},
     "execution_count": 675
    }
   ],
   "source": [
    "function2_u = function2_du.subs(u_value, u)\n",
    "function2_u"
   ]
  },
  {
   "cell_type": "code",
   "execution_count": 676,
   "metadata": {},
   "outputs": [
    {
     "output_type": "execute_result",
     "data": {
      "text/plain": [
       "⌠          ⌠       \n",
       "⎮   2      ⎮   4   \n",
       "⎮ -u  du - ⎮ -u  du\n",
       "⌡          ⌡       "
      ],
      "text/latex": "$\\displaystyle \\int \\left(- u^{2}\\right)\\, du - \\int \\left(- u^{4}\\right)\\, du$"
     },
     "metadata": {},
     "execution_count": 676
    }
   ],
   "source": [
    "sp.Integral(function1_u)-sp.Integral(function2_u)"
   ]
  },
  {
   "source": [
    "Solución integrales con u"
   ],
   "cell_type": "markdown",
   "metadata": {}
  },
  {
   "cell_type": "code",
   "execution_count": 677,
   "metadata": {},
   "outputs": [
    {
     "output_type": "execute_result",
     "data": {
      "text/plain": [
       " 5    3\n",
       "u    u \n",
       "── - ──\n",
       "5    3 "
      ],
      "text/latex": "$\\displaystyle \\frac{u^{5}}{5} - \\frac{u^{3}}{3}$"
     },
     "metadata": {},
     "execution_count": 677
    }
   ],
   "source": [
    "result_u = sp.integrate(function1_u,u)-sp.integrate(function2_u)\n",
    "result_u"
   ]
  },
  {
   "source": [
    "Solución - Regresando cambio de variable"
   ],
   "cell_type": "markdown",
   "metadata": {}
  },
  {
   "cell_type": "code",
   "execution_count": 678,
   "metadata": {},
   "outputs": [
    {
     "output_type": "execute_result",
     "data": {
      "text/plain": [
       "   5         3   \n",
       "cos (x)   cos (x)\n",
       "─────── - ───────\n",
       "   5         3   "
      ],
      "text/latex": "$\\displaystyle \\frac{\\cos^{5}{\\left(x \\right)}}{5} - \\frac{\\cos^{3}{\\left(x \\right)}}{3}$"
     },
     "metadata": {},
     "execution_count": 678
    }
   ],
   "source": [
    "result_x = result_u.subs(u,u_value)\n",
    "result_x"
   ]
  },
  {
   "source": [
    "## Integración de una función trigonométrica con exponente impar "
   ],
   "cell_type": "markdown",
   "metadata": {}
  },
  {
   "cell_type": "code",
   "execution_count": 679,
   "metadata": {},
   "outputs": [
    {
     "output_type": "execute_result",
     "data": {
      "text/plain": [
       "   5   \n",
       "cos (x)"
      ],
      "text/latex": "$\\displaystyle \\cos^{5}{\\left(x \\right)}$"
     },
     "metadata": {},
     "execution_count": 679
    }
   ],
   "source": [
    "function = sp.cos(x)**5\n",
    "function"
   ]
  },
  {
   "cell_type": "code",
   "execution_count": 680,
   "metadata": {},
   "outputs": [
    {
     "output_type": "execute_result",
     "data": {
      "text/plain": [
       "⌠           \n",
       "⎮    5      \n",
       "⎮ cos (x) dx\n",
       "⌡           "
      ],
      "text/latex": "$\\displaystyle \\int \\cos^{5}{\\left(x \\right)}\\, dx$"
     },
     "metadata": {},
     "execution_count": 680
    }
   ],
   "source": [
    "sp.Integral(function)"
   ]
  },
  {
   "source": [
    "* Solución directa"
   ],
   "cell_type": "markdown",
   "metadata": {}
  },
  {
   "cell_type": "code",
   "execution_count": 681,
   "metadata": {},
   "outputs": [
    {
     "output_type": "execute_result",
     "data": {
      "text/plain": [
       "   5           3            \n",
       "sin (x)   2⋅sin (x)         \n",
       "─────── - ───────── + sin(x)\n",
       "   5          3             "
      ],
      "text/latex": "$\\displaystyle \\frac{\\sin^{5}{\\left(x \\right)}}{5} - \\frac{2 \\sin^{3}{\\left(x \\right)}}{3} + \\sin{\\left(x \\right)}$"
     },
     "metadata": {},
     "execution_count": 681
    }
   ],
   "source": [
    "result = sp.integrate(function,x)\n",
    "result"
   ]
  },
  {
   "source": [
    "* Solución por sustituicón"
   ],
   "cell_type": "markdown",
   "metadata": {}
  },
  {
   "cell_type": "code",
   "execution_count": 682,
   "metadata": {},
   "outputs": [
    {
     "output_type": "stream",
     "name": "stdout",
     "text": [
      "Eq(cos(x)**2, 1 - sin(x)**2)\n"
     ]
    }
   ],
   "source": [
    "#Identidad trigonomética\n",
    "print(sp.Eq(sp.cos(x)**2,1-sp.sin(x)**2))"
   ]
  },
  {
   "cell_type": "code",
   "execution_count": 683,
   "metadata": {},
   "outputs": [
    {
     "output_type": "execute_result",
     "data": {
      "text/plain": [
       "⎛               4   ⎞\n",
       "⎝cos(x), 1 - sin (x)⎠"
      ],
      "text/latex": "$\\displaystyle \\left( \\cos{\\left(x \\right)}, \\  1 - \\sin^{4}{\\left(x \\right)}\\right)$"
     },
     "metadata": {},
     "execution_count": 683
    }
   ],
   "source": [
    "#Reescribir función\n",
    "part1 = sp.cos(x)\n",
    "part2 = 1 - (sp.sin(x)**(2))**2\n",
    "part1, part2"
   ]
  },
  {
   "cell_type": "code",
   "execution_count": 684,
   "metadata": {},
   "outputs": [
    {
     "output_type": "execute_result",
     "data": {
      "text/plain": [
       "⎛           4           2       ⎞\n",
       "⎝cos(x), sin (x) - 2⋅sin (x) + 1⎠"
      ],
      "text/latex": "$\\displaystyle \\left( \\cos{\\left(x \\right)}, \\  \\sin^{4}{\\left(x \\right)} - 2 \\sin^{2}{\\left(x \\right)} + 1\\right)$"
     },
     "metadata": {},
     "execution_count": 684
    }
   ],
   "source": [
    "#Reescribir función\n",
    "part1 = sp.cos(x)\n",
    "part2 = 1 - 2*sp.sin(x)**(2) + sp.sin(x)**(4)\n",
    "part1,part2"
   ]
  },
  {
   "cell_type": "code",
   "execution_count": 685,
   "metadata": {},
   "outputs": [
    {
     "output_type": "execute_result",
     "data": {
      "text/plain": [
       "⎛             2               4          ⎞\n",
       "⎝cos(x), 2⋅sin (x)⋅cos(x), sin (x)⋅cos(x)⎠"
      ],
      "text/latex": "$\\displaystyle \\left( \\cos{\\left(x \\right)}, \\  2 \\sin^{2}{\\left(x \\right)} \\cos{\\left(x \\right)}, \\  \\sin^{4}{\\left(x \\right)} \\cos{\\left(x \\right)}\\right)$"
     },
     "metadata": {},
     "execution_count": 685
    }
   ],
   "source": [
    "# Multiplicar por cos(x) y dividir en 3 integrales\n",
    "part1 = sp.cos(x)*1\n",
    "part2 = sp.cos(x)*(2*sp.sin(x)**(2))\n",
    "part3 = sp.cos(x)*sp.sin(x)**(4)\n",
    "part1,part2,part3"
   ]
  },
  {
   "cell_type": "code",
   "execution_count": 693,
   "metadata": {},
   "outputs": [
    {
     "output_type": "execute_result",
     "data": {
      "text/plain": [
       "  ⌠                       ⌠                                \n",
       "  ⎮      2                ⎮    4                ⌠          \n",
       "- ⎮ 2⋅sin (x)⋅cos(x) dx + ⎮ sin (x)⋅cos(x) dx + ⎮ cos(x) dx\n",
       "  ⌡                       ⌡                     ⌡          "
      ],
      "text/latex": "$\\displaystyle - \\int 2 \\sin^{2}{\\left(x \\right)} \\cos{\\left(x \\right)}\\, dx + \\int \\sin^{4}{\\left(x \\right)} \\cos{\\left(x \\right)}\\, dx + \\int \\cos{\\left(x \\right)}\\, dx$"
     },
     "metadata": {},
     "execution_count": 693
    }
   ],
   "source": [
    "#Integrales\n",
    "integral1 = sp.Integral(part1)\n",
    "integral2 = -sp.Integral(part2)\n",
    "integral3 = sp.Integral(part3)\n",
    "integral1+integral2+integral3"
   ]
  },
  {
   "cell_type": "code",
   "execution_count": 687,
   "metadata": {},
   "outputs": [
    {
     "output_type": "execute_result",
     "data": {
      "text/plain": [
       "sin(x)"
      ],
      "text/latex": "$\\displaystyle \\sin{\\left(x \\right)}$"
     },
     "metadata": {},
     "execution_count": 687
    }
   ],
   "source": [
    "#Escoger valor u\n",
    "u_value = sp.sin(x)\n",
    "u_value"
   ]
  },
  {
   "cell_type": "code",
   "execution_count": 688,
   "metadata": {},
   "outputs": [
    {
     "output_type": "execute_result",
     "data": {
      "text/plain": [
       "cos(x)"
      ],
      "text/latex": "$\\displaystyle \\cos{\\left(x \\right)}$"
     },
     "metadata": {},
     "execution_count": 688
    }
   ],
   "source": [
    "du_value = sp.diff(u_value)\n",
    "du_value"
   ]
  },
  {
   "cell_type": "code",
   "execution_count": 689,
   "metadata": {},
   "outputs": [
    {
     "output_type": "execute_result",
     "data": {
      "text/plain": [
       "⎛        2        4   ⎞\n",
       "⎝1, 2⋅sin (x), sin (x)⎠"
      ],
      "text/latex": "$\\displaystyle \\left( 1, \\  2 \\sin^{2}{\\left(x \\right)}, \\  \\sin^{4}{\\left(x \\right)}\\right)$"
     },
     "metadata": {},
     "execution_count": 689
    }
   ],
   "source": [
    "#Sustituir valor de dx en terminos de u, para eliminar\n",
    "part1_du = part1/du_value \n",
    "part2_du = part2/du_value \n",
    "part3_du = part3/du_value \n",
    "part1_du,part2_du,part3_du"
   ]
  },
  {
   "cell_type": "code",
   "execution_count": 721,
   "metadata": {},
   "outputs": [
    {
     "output_type": "execute_result",
     "data": {
      "text/plain": [
       "⎛      2   4⎞\n",
       "⎝1, 2⋅u , u ⎠"
      ],
      "text/latex": "$\\displaystyle \\left( 1, \\  2 u^{2}, \\  u^{4}\\right)$"
     },
     "metadata": {},
     "execution_count": 721
    }
   ],
   "source": [
    "#Sustituir variable x por u\n",
    "part1_u = part1_du.subs(u_value,u)\n",
    "part2_u = part2_du.subs(u_value,u) \n",
    "part3_u = part3_du.subs(u_value,u) \n",
    "part1_u,part2_u,part3_u"
   ]
  },
  {
   "cell_type": "code",
   "execution_count": 717,
   "metadata": {},
   "outputs": [
    {
     "output_type": "execute_result",
     "data": {
      "text/plain": [
       "         ⌠           ⌠      \n",
       "⌠        ⎮    2      ⎮  4   \n",
       "⎮ 1 du - ⎮ 2⋅u  du + ⎮ u  du\n",
       "⌡        ⌡           ⌡      "
      ],
      "text/latex": "$\\displaystyle \\int 1\\, du - \\int 2 u^{2}\\, du + \\int u^{4}\\, du$"
     },
     "metadata": {},
     "execution_count": 717
    }
   ],
   "source": [
    "#Vista de las 3 integrales\n",
    "integral1 = sp.Integral(part1_u,u)\n",
    "integral2 = -sp.Integral(part2_u,u)\n",
    "integral3 = sp.Integral(part3_u,u)\n",
    "integral1+integral2+integral3"
   ]
  },
  {
   "cell_type": "code",
   "execution_count": 722,
   "metadata": {},
   "outputs": [
    {
     "output_type": "execute_result",
     "data": {
      "text/plain": [
       " 5      3    \n",
       "u    2⋅u     \n",
       "── - ──── + u\n",
       "5     3      "
      ],
      "text/latex": "$\\displaystyle \\frac{u^{5}}{5} - \\frac{2 u^{3}}{3} + u$"
     },
     "metadata": {},
     "execution_count": 722
    }
   ],
   "source": [
    "#Integración\n",
    "integral1_u = sp.integrate(part1_u,u)\n",
    "integral2_u = -sp.integrate(part2_u,u)\n",
    "integral3_u = sp.integrate(part3_u,u)\n",
    "integral1_u+integral2_u+integral3_u"
   ]
  },
  {
   "cell_type": "code",
   "execution_count": 726,
   "metadata": {},
   "outputs": [
    {
     "output_type": "execute_result",
     "data": {
      "text/plain": [
       "   5           3            \n",
       "sin (x)   2⋅sin (x)         \n",
       "─────── - ───────── + sin(x)\n",
       "   5          3             "
      ],
      "text/latex": "$\\displaystyle \\frac{\\sin^{5}{\\left(x \\right)}}{5} - \\frac{2 \\sin^{3}{\\left(x \\right)}}{3} + \\sin{\\left(x \\right)}$"
     },
     "metadata": {},
     "execution_count": 726
    }
   ],
   "source": [
    "# Solución - Regreso de variable\n",
    "integral1_x = integral1_u.subs(u,u_value)\n",
    "integral2_x = integral2_u.subs(u,u_value)\n",
    "integral3_x = integral3_u.subs(u,u_value)\n",
    "integral1_x+integral2_x+integral3_x"
   ]
  },
  {
   "source": [
    "# Otras integrales"
   ],
   "cell_type": "markdown",
   "metadata": {}
  },
  {
   "cell_type": "code",
   "execution_count": 729,
   "metadata": {},
   "outputs": [
    {
     "output_type": "execute_result",
     "data": {
      "text/plain": [
       "          3   \n",
       "sin(t)⋅cos (t)"
      ],
      "text/latex": "$\\displaystyle \\sin{\\left(t \\right)} \\cos^{3}{\\left(t \\right)}$"
     },
     "metadata": {},
     "execution_count": 729
    }
   ],
   "source": [
    "t = sp.symbols(\"t\")\n",
    "function = (sp.cos(t)**3)*(sp.sin(t))\n",
    "function"
   ]
  },
  {
   "cell_type": "code",
   "execution_count": 731,
   "metadata": {},
   "outputs": [
    {
     "output_type": "execute_result",
     "data": {
      "text/plain": [
       "    4    \n",
       "-cos (t) \n",
       "─────────\n",
       "    4    "
      ],
      "text/latex": "$\\displaystyle - \\frac{\\cos^{4}{\\left(t \\right)}}{4}$"
     },
     "metadata": {},
     "execution_count": 731
    }
   ],
   "source": [
    "solution = sp.integrate(function,t)\n",
    "solution"
   ]
  },
  {
   "cell_type": "code",
   "execution_count": 732,
   "metadata": {},
   "outputs": [
    {
     "output_type": "execute_result",
     "data": {
      "text/plain": [
       "  x   \n",
       "──────\n",
       " 2    \n",
       "x  + 2"
      ],
      "text/latex": "$\\displaystyle \\frac{x}{x^{2} + 2}$"
     },
     "metadata": {},
     "execution_count": 732
    }
   ],
   "source": [
    "function = x/(2+x**(2))\n",
    "function"
   ]
  },
  {
   "cell_type": "code",
   "execution_count": 733,
   "metadata": {},
   "outputs": [
    {
     "output_type": "execute_result",
     "data": {
      "text/plain": [
       "   ⎛ 2    ⎞\n",
       "log⎝x  + 2⎠\n",
       "───────────\n",
       "     2     "
      ],
      "text/latex": "$\\displaystyle \\frac{\\log{\\left(x^{2} + 2 \\right)}}{2}$"
     },
     "metadata": {},
     "execution_count": 733
    }
   ],
   "source": [
    "solution = sp.integrate(function,x)\n",
    "solution"
   ]
  },
  {
   "cell_type": "code",
   "execution_count": 734,
   "metadata": {},
   "outputs": [
    {
     "output_type": "execute_result",
     "data": {
      "text/plain": [
       "   1   \n",
       "───────\n",
       "8⋅x + 5"
      ],
      "text/latex": "$\\displaystyle \\frac{1}{8 x + 5}$"
     },
     "metadata": {},
     "execution_count": 734
    }
   ],
   "source": [
    "function = 1/(5+8*x)\n",
    "function"
   ]
  },
  {
   "cell_type": "code",
   "execution_count": 735,
   "metadata": {},
   "outputs": [
    {
     "output_type": "execute_result",
     "data": {
      "text/plain": [
       "log(8⋅x + 5)\n",
       "────────────\n",
       "     8      "
      ],
      "text/latex": "$\\displaystyle \\frac{\\log{\\left(8 x + 5 \\right)}}{8}$"
     },
     "metadata": {},
     "execution_count": 735
    }
   ],
   "source": [
    "solution = sp.integrate(function,x)\n",
    "solution"
   ]
  },
  {
   "cell_type": "code",
   "execution_count": 737,
   "metadata": {},
   "outputs": [
    {
     "output_type": "execute_result",
     "data": {
      "text/plain": [
       " -15⋅r\n",
       "ℯ     "
      ],
      "text/latex": "$\\displaystyle e^{- 15 r}$"
     },
     "metadata": {},
     "execution_count": 737
    }
   ],
   "source": [
    "r = sp.symbols(\"r\")\n",
    "function = sp.exp(-15*r)\n",
    "function"
   ]
  },
  {
   "cell_type": "code",
   "execution_count": 738,
   "metadata": {},
   "outputs": [
    {
     "output_type": "execute_result",
     "data": {
      "text/plain": [
       "  -15⋅r \n",
       "-ℯ      \n",
       "────────\n",
       "   15   "
      ],
      "text/latex": "$\\displaystyle - \\frac{e^{- 15 r}}{15}$"
     },
     "metadata": {},
     "execution_count": 738
    }
   ],
   "source": [
    "solution = sp.integrate(function,r)\n",
    "solution"
   ]
  },
  {
   "cell_type": "code",
   "execution_count": 739,
   "metadata": {},
   "outputs": [
    {
     "output_type": "execute_result",
     "data": {
      "text/plain": [
       "   1   \n",
       "───────\n",
       "a + b⋅x"
      ],
      "text/latex": "$\\displaystyle \\frac{1}{a + b x}$"
     },
     "metadata": {},
     "execution_count": 739
    }
   ],
   "source": [
    "a, b = sp.symbols(\"a b\")\n",
    "function = 1/(a+b*x)\n",
    "function"
   ]
  },
  {
   "cell_type": "code",
   "execution_count": 740,
   "metadata": {},
   "outputs": [
    {
     "output_type": "execute_result",
     "data": {
      "text/plain": [
       "log(a + b⋅x)\n",
       "────────────\n",
       "     b      "
      ],
      "text/latex": "$\\displaystyle \\frac{\\log{\\left(a + b x \\right)}}{b}$"
     },
     "metadata": {},
     "execution_count": 740
    }
   ],
   "source": [
    "solution = sp.integrate(function,x)\n",
    "solution"
   ]
  },
  {
   "cell_type": "code",
   "execution_count": 796,
   "metadata": {},
   "outputs": [
    {
     "output_type": "execute_result",
     "data": {
      "text/plain": [
       "sin(v)⋅sin(cos(v))"
      ],
      "text/latex": "$\\displaystyle \\sin{\\left(v \\right)} \\sin{\\left(\\cos{\\left(v \\right)} \\right)}$"
     },
     "metadata": {},
     "execution_count": 796
    }
   ],
   "source": [
    "v = sp.symbols(\"v\")\n",
    "function = sp.sin(v)*sp.sin(sp.cos(v))\n",
    "function"
   ]
  },
  {
   "cell_type": "code",
   "execution_count": 797,
   "metadata": {},
   "outputs": [
    {
     "output_type": "execute_result",
     "data": {
      "text/plain": [
       "cos(cos(v))"
      ],
      "text/latex": "$\\displaystyle \\cos{\\left(\\cos{\\left(v \\right)} \\right)}$"
     },
     "metadata": {},
     "execution_count": 797
    }
   ],
   "source": [
    "solution = sp.integrate(function,v)\n",
    "solution"
   ]
  },
  {
   "cell_type": "code",
   "execution_count": 743,
   "metadata": {},
   "outputs": [
    {
     "output_type": "execute_result",
     "data": {
      "text/plain": [
       "sin(√p)\n",
       "───────\n",
       "   √p  "
      ],
      "text/latex": "$\\displaystyle \\frac{\\sin{\\left(\\sqrt{p} \\right)}}{\\sqrt{p}}$"
     },
     "metadata": {},
     "execution_count": 743
    }
   ],
   "source": [
    "p = sp.symbols(\"p\")\n",
    "function = (sp.sin(sp.sqrt(p)))/sp.sqrt(p)\n",
    "function"
   ]
  },
  {
   "cell_type": "code",
   "execution_count": 744,
   "metadata": {},
   "outputs": [
    {
     "output_type": "execute_result",
     "data": {
      "text/plain": [
       "-2⋅cos(√p)"
      ],
      "text/latex": "$\\displaystyle - 2 \\cos{\\left(\\sqrt{p} \\right)}$"
     },
     "metadata": {},
     "execution_count": 744
    }
   ],
   "source": [
    "solution = sp.integrate(function,p)\n",
    "solution"
   ]
  },
  {
   "cell_type": "code",
   "execution_count": 794,
   "metadata": {},
   "outputs": [
    {
     "output_type": "execute_result",
     "data": {
      "text/plain": [
       "   2   \n",
       "log (w)\n",
       "───────\n",
       "   w   "
      ],
      "text/latex": "$\\displaystyle \\frac{\\log{\\left(w \\right)}^{2}}{w}$"
     },
     "metadata": {},
     "execution_count": 794
    }
   ],
   "source": [
    "w = sp.symbols(\"w\")\n",
    "function = ((sp.log(w))**(2))/(w)\n",
    "function"
   ]
  },
  {
   "cell_type": "code",
   "execution_count": 795,
   "metadata": {},
   "outputs": [
    {
     "output_type": "execute_result",
     "data": {
      "text/plain": [
       "   3   \n",
       "log (w)\n",
       "───────\n",
       "   3   "
      ],
      "text/latex": "$\\displaystyle \\frac{\\log{\\left(w \\right)}^{3}}{3}$"
     },
     "metadata": {},
     "execution_count": 795
    }
   ],
   "source": [
    "solution = sp.integrate(function,w)\n",
    "a = solution.simplify()\n",
    "a"
   ]
  },
  {
   "cell_type": "code",
   "execution_count": 785,
   "metadata": {},
   "outputs": [
    {
     "output_type": "execute_result",
     "data": {
      "text/plain": [
       "         2  \n",
       "  a + b⋅x   \n",
       "────────────\n",
       "           3\n",
       "3⋅a⋅x + b⋅x "
      ],
      "text/latex": "$\\displaystyle \\frac{a + b x^{2}}{3 a x + b x^{3}}$"
     },
     "metadata": {},
     "execution_count": 785
    }
   ],
   "source": [
    "a, b = sp.symbols(\"a b\")\n",
    "function = (a+b*x**(2))/(3*a*x+b*x**(3))\n",
    "function"
   ]
  },
  {
   "cell_type": "code",
   "execution_count": 787,
   "metadata": {},
   "outputs": [
    {
     "output_type": "execute_result",
     "data": {
      "text/plain": [
       "   ⎛  ⎛         2⎞⎞\n",
       "log⎝x⋅⎝3⋅a + b⋅x ⎠⎠\n",
       "───────────────────\n",
       "         3         "
      ],
      "text/latex": "$\\displaystyle \\frac{\\log{\\left(x \\left(3 a + b x^{2}\\right) \\right)}}{3}$"
     },
     "metadata": {},
     "execution_count": 787
    }
   ],
   "source": [
    "solution = sp.integrate(function,x)\n",
    "solution.simplify()\n"
   ]
  },
  {
   "cell_type": "code",
   "execution_count": 800,
   "metadata": {},
   "outputs": [
    {
     "output_type": "execute_result",
     "data": {
      "text/plain": [
       "   3       2   \n",
       "tan (b)⋅sec (b)"
      ],
      "text/latex": "$\\displaystyle \\tan^{3}{\\left(b \\right)} \\sec^{2}{\\left(b \\right)}$"
     },
     "metadata": {},
     "execution_count": 800
    }
   ],
   "source": [
    "a, b = sp.symbols(\"a b\")\n",
    "function = (sp.sec(b)**(2))*(sp.tan(b)**(3))\n",
    "function"
   ]
  },
  {
   "cell_type": "code",
   "execution_count": 801,
   "metadata": {},
   "outputs": [
    {
     "output_type": "execute_result",
     "data": {
      "text/plain": [
       "         2   \n",
       "1 - 2⋅cos (b)\n",
       "─────────────\n",
       "       4     \n",
       "  4⋅cos (b)  "
      ],
      "text/latex": "$\\displaystyle \\frac{1 - 2 \\cos^{2}{\\left(b \\right)}}{4 \\cos^{4}{\\left(b \\right)}}$"
     },
     "metadata": {},
     "execution_count": 801
    }
   ],
   "source": [
    "solution = sp.integrate(function,b)\n",
    "solution"
   ]
  }
 ]
}