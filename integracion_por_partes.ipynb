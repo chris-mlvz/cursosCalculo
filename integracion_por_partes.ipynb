{
 "metadata": {
  "language_info": {
   "codemirror_mode": {
    "name": "ipython",
    "version": 3
   },
   "file_extension": ".py",
   "mimetype": "text/x-python",
   "name": "python",
   "nbconvert_exporter": "python",
   "pygments_lexer": "ipython3",
   "version": "3.8.8"
  },
  "orig_nbformat": 2,
  "kernelspec": {
   "name": "python388jvsc74a57bd0c72a629dba5ae9edebcad565c17c3988d814021371aabb3db62cb04d2b10dbfe",
   "display_name": "Python 3.8.8 64-bit ('base': conda)"
  }
 },
 "nbformat": 4,
 "nbformat_minor": 2,
 "cells": [
  {
   "source": [
    "# Integración por partes"
   ],
   "cell_type": "markdown",
   "metadata": {}
  },
  {
   "cell_type": "code",
   "execution_count": 133,
   "metadata": {},
   "outputs": [],
   "source": [
    "import sympy as sp \n",
    "x, y, z, C, u, v, du, dv, dx = sp.symbols('x y z C u v du dv dx')\n",
    "sp.init_printing(use_latex='mathjax')"
   ]
  },
  {
   "source": [
    "## Método ALPES"
   ],
   "cell_type": "markdown",
   "metadata": {}
  },
  {
   "cell_type": "code",
   "execution_count": 134,
   "metadata": {},
   "outputs": [
    {
     "output_type": "execute_result",
     "data": {
      "text/plain": [
       " x       \n",
       "ℯ ⋅sin(x)"
      ],
      "text/latex": "$\\displaystyle e^{x} \\sin{\\left(x \\right)}$"
     },
     "metadata": {},
     "execution_count": 134
    }
   ],
   "source": [
    "function = sp.exp(x)*sp.sin(x)\n",
    "function"
   ]
  },
  {
   "cell_type": "code",
   "execution_count": 135,
   "metadata": {},
   "outputs": [
    {
     "output_type": "execute_result",
     "data": {
      "text/plain": [
       "⌠             \n",
       "⎮  x          \n",
       "⎮ ℯ ⋅sin(x) dx\n",
       "⌡             "
      ],
      "text/latex": "$\\displaystyle \\int e^{x} \\sin{\\left(x \\right)}\\, dx$"
     },
     "metadata": {},
     "execution_count": 135
    }
   ],
   "source": [
    "sp.Integral(function)"
   ]
  },
  {
   "cell_type": "code",
   "execution_count": 136,
   "metadata": {},
   "outputs": [
    {
     "output_type": "execute_result",
     "data": {
      "text/plain": [
       " x\n",
       "ℯ "
      ],
      "text/latex": "$\\displaystyle e^{x}$"
     },
     "metadata": {},
     "execution_count": 136
    }
   ],
   "source": [
    "u_value = sp.exp(x)\n",
    "u_value"
   ]
  },
  {
   "cell_type": "code",
   "execution_count": 137,
   "metadata": {},
   "outputs": [
    {
     "output_type": "execute_result",
     "data": {
      "text/plain": [
       "dx⋅sin(x)"
      ],
      "text/latex": "$\\displaystyle dx \\sin{\\left(x \\right)}$"
     },
     "metadata": {},
     "execution_count": 137
    }
   ],
   "source": [
    "dv_value = sp.sin(x)\n",
    "dv_value*dx"
   ]
  },
  {
   "source": [
    "## Integración por partes: potencias y funciones trigonométricas"
   ],
   "cell_type": "markdown",
   "metadata": {}
  },
  {
   "cell_type": "code",
   "execution_count": 138,
   "metadata": {},
   "outputs": [
    {
     "output_type": "execute_result",
     "data": {
      "text/plain": [
       "x⋅cos(x)"
      ],
      "text/latex": "$\\displaystyle x \\cos{\\left(x \\right)}$"
     },
     "metadata": {},
     "execution_count": 138
    }
   ],
   "source": [
    "# Función a integrar\n",
    "function = x*sp.cos(x)\n",
    "function"
   ]
  },
  {
   "cell_type": "code",
   "execution_count": 139,
   "metadata": {},
   "outputs": [
    {
     "output_type": "execute_result",
     "data": {
      "text/plain": [
       "⌠            \n",
       "⎮ x⋅cos(x) dx\n",
       "⌡            "
      ],
      "text/latex": "$\\displaystyle \\int x \\cos{\\left(x \\right)}\\, dx$"
     },
     "metadata": {},
     "execution_count": 139
    }
   ],
   "source": [
    "# Integral a resolver\n",
    "integral = sp.Integral(function)\n",
    "integral"
   ]
  },
  {
   "source": [
    "* Integración directa"
   ],
   "cell_type": "markdown",
   "metadata": {}
  },
  {
   "cell_type": "code",
   "execution_count": 140,
   "metadata": {},
   "outputs": [
    {
     "output_type": "execute_result",
     "data": {
      "text/plain": [
       "⌠                                \n",
       "⎮ x⋅cos(x) dx = x⋅sin(x) + cos(x)\n",
       "⌡                                "
      ],
      "text/latex": "$\\displaystyle \\int x \\cos{\\left(x \\right)}\\, dx = x \\sin{\\left(x \\right)} + \\cos{\\left(x \\right)}$"
     },
     "metadata": {},
     "execution_count": 140
    }
   ],
   "source": [
    "solution = sp.integrate(function, x)\n",
    "sp.Eq(integral,solution)"
   ]
  },
  {
   "source": [
    "* Integración por partes"
   ],
   "cell_type": "markdown",
   "metadata": {}
  },
  {
   "cell_type": "code",
   "execution_count": 141,
   "metadata": {},
   "outputs": [
    {
     "output_type": "execute_result",
     "data": {
      "text/plain": [
       "u = x"
      ],
      "text/latex": "$\\displaystyle u = x$"
     },
     "metadata": {},
     "execution_count": 141
    }
   ],
   "source": [
    "# Valor de u\n",
    "u_value = x\n",
    "sp.Eq(u,u_value)"
   ]
  },
  {
   "cell_type": "code",
   "execution_count": 142,
   "metadata": {},
   "outputs": [
    {
     "output_type": "execute_result",
     "data": {
      "text/plain": [
       "du = 1"
      ],
      "text/latex": "$\\displaystyle du = 1$"
     },
     "metadata": {},
     "execution_count": 142
    }
   ],
   "source": [
    "# Obtener dv mediante la derivada de u\n",
    "du_value = sp.diff(u_value)\n",
    "sp.Eq(du,du_value)"
   ]
  },
  {
   "cell_type": "code",
   "execution_count": 143,
   "metadata": {},
   "outputs": [
    {
     "output_type": "execute_result",
     "data": {
      "text/plain": [
       "dv = dx⋅cos(x)"
      ],
      "text/latex": "$\\displaystyle dv = dx \\cos{\\left(x \\right)}$"
     },
     "metadata": {},
     "execution_count": 143
    }
   ],
   "source": [
    "# Valor de dv\n",
    "dv_value = sp.cos(x)\n",
    "sp.Eq(dv,dv_value*dx)"
   ]
  },
  {
   "cell_type": "code",
   "execution_count": 144,
   "metadata": {},
   "outputs": [
    {
     "output_type": "execute_result",
     "data": {
      "text/plain": [
       "v = sin(x)"
      ],
      "text/latex": "$\\displaystyle v = \\sin{\\left(x \\right)}$"
     },
     "metadata": {},
     "execution_count": 144
    }
   ],
   "source": [
    "# Obtener v mediante la integral de dv\n",
    "v_value = sp.integrate(dv_value,x)\n",
    "sp.Eq(v,v_value)"
   ]
  },
  {
   "cell_type": "code",
   "execution_count": 145,
   "metadata": {},
   "outputs": [
    {
     "output_type": "execute_result",
     "data": {
      "text/plain": [
       "⌠                          ⌠          \n",
       "⎮ x⋅cos(x) dx = x⋅sin(x) - ⎮ sin(x) dx\n",
       "⌡                          ⌡          "
      ],
      "text/latex": "$\\displaystyle \\int x \\cos{\\left(x \\right)}\\, dx = x \\sin{\\left(x \\right)} - \\int \\sin{\\left(x \\right)}\\, dx$"
     },
     "metadata": {},
     "execution_count": 145
    }
   ],
   "source": [
    "#Reescribiendo la integral como integral por partes udv = uv- dvu\n",
    "udv = u_value*dv_value\n",
    "uv = u_value*v_value\n",
    "vdu = v_value*du_value\n",
    "sp.Eq(sp.Integral(udv),uv-sp.Integral(vdu))"
   ]
  },
  {
   "cell_type": "code",
   "execution_count": 146,
   "metadata": {},
   "outputs": [
    {
     "output_type": "execute_result",
     "data": {
      "text/plain": [
       "⌠                    \n",
       "⎮ sin(x) dx = -cos(x)\n",
       "⌡                    "
      ],
      "text/latex": "$\\displaystyle \\int \\sin{\\left(x \\right)}\\, dx = - \\cos{\\left(x \\right)}$"
     },
     "metadata": {},
     "execution_count": 146
    }
   ],
   "source": [
    "# Resolviendo integral\n",
    "solution_vdu = sp.integrate(vdu,x)\n",
    "sp.Eq(sp.Integral(vdu),solution_vdu)"
   ]
  },
  {
   "cell_type": "code",
   "execution_count": 147,
   "metadata": {},
   "outputs": [
    {
     "output_type": "execute_result",
     "data": {
      "text/plain": [
       "⌠                                    \n",
       "⎮ x⋅cos(x) dx = C + x⋅sin(x) + cos(x)\n",
       "⌡                                    "
      ],
      "text/latex": "$\\displaystyle \\int x \\cos{\\left(x \\right)}\\, dx = C + x \\sin{\\left(x \\right)} + \\cos{\\left(x \\right)}$"
     },
     "metadata": {},
     "execution_count": 147
    }
   ],
   "source": [
    "# Solución final\n",
    "sp.Eq(sp.Integral(udv),uv-solution_vdu+C)"
   ]
  },
  {
   "source": [
    "## Integración por partes: funciones de potencia con exponencial"
   ],
   "cell_type": "markdown",
   "metadata": {}
  },
  {
   "cell_type": "code",
   "execution_count": 148,
   "metadata": {},
   "outputs": [
    {
     "output_type": "execute_result",
     "data": {
      "text/plain": [
       "   x\n",
       "x⋅ℯ "
      ],
      "text/latex": "$\\displaystyle x e^{x}$"
     },
     "metadata": {},
     "execution_count": 148
    }
   ],
   "source": [
    "# Función a integrar\n",
    "function = x*sp.exp(x)\n",
    "function"
   ]
  },
  {
   "cell_type": "code",
   "execution_count": 149,
   "metadata": {},
   "outputs": [
    {
     "output_type": "execute_result",
     "data": {
      "text/plain": [
       "⌠        \n",
       "⎮    x   \n",
       "⎮ x⋅ℯ  dx\n",
       "⌡        "
      ],
      "text/latex": "$\\displaystyle \\int x e^{x}\\, dx$"
     },
     "metadata": {},
     "execution_count": 149
    }
   ],
   "source": [
    "# Integral a resolver\n",
    "integral = sp.Integral(function)\n",
    "integral"
   ]
  },
  {
   "source": [
    "* Integración directa"
   ],
   "cell_type": "markdown",
   "metadata": {}
  },
  {
   "cell_type": "code",
   "execution_count": 150,
   "metadata": {},
   "outputs": [
    {
     "output_type": "execute_result",
     "data": {
      "text/plain": [
       "⌠                     \n",
       "⎮    x               x\n",
       "⎮ x⋅ℯ  dx = (x - 1)⋅ℯ \n",
       "⌡                     "
      ],
      "text/latex": "$\\displaystyle \\int x e^{x}\\, dx = \\left(x - 1\\right) e^{x}$"
     },
     "metadata": {},
     "execution_count": 150
    }
   ],
   "source": [
    "solution = sp.integrate(function, x)\n",
    "sp.Eq(integral,solution)"
   ]
  },
  {
   "source": [
    "* Integración por partes"
   ],
   "cell_type": "markdown",
   "metadata": {}
  },
  {
   "cell_type": "code",
   "execution_count": 151,
   "metadata": {},
   "outputs": [
    {
     "output_type": "execute_result",
     "data": {
      "text/plain": [
       "u = x"
      ],
      "text/latex": "$\\displaystyle u = x$"
     },
     "metadata": {},
     "execution_count": 151
    }
   ],
   "source": [
    "# Valor de u\n",
    "u_value = x\n",
    "sp.Eq(u,u_value)"
   ]
  },
  {
   "cell_type": "code",
   "execution_count": 152,
   "metadata": {},
   "outputs": [
    {
     "output_type": "execute_result",
     "data": {
      "text/plain": [
       "du = 1"
      ],
      "text/latex": "$\\displaystyle du = 1$"
     },
     "metadata": {},
     "execution_count": 152
    }
   ],
   "source": [
    "# Obtener dv mediante la derivada de u\n",
    "du_value = sp.diff(u_value)\n",
    "sp.Eq(du,du_value)"
   ]
  },
  {
   "cell_type": "code",
   "execution_count": 153,
   "metadata": {},
   "outputs": [
    {
     "output_type": "execute_result",
     "data": {
      "text/plain": [
       "         x\n",
       "dv = dx⋅ℯ "
      ],
      "text/latex": "$\\displaystyle dv = dx e^{x}$"
     },
     "metadata": {},
     "execution_count": 153
    }
   ],
   "source": [
    "# Valor de dv\n",
    "dv_value = sp.exp(x)\n",
    "sp.Eq(dv,dv_value*dx)"
   ]
  },
  {
   "cell_type": "code",
   "execution_count": 154,
   "metadata": {},
   "outputs": [
    {
     "output_type": "execute_result",
     "data": {
      "text/plain": [
       "     x\n",
       "v = ℯ "
      ],
      "text/latex": "$\\displaystyle v = e^{x}$"
     },
     "metadata": {},
     "execution_count": 154
    }
   ],
   "source": [
    "# Obtener v mediante la integral de dv\n",
    "v_value = sp.integrate(dv_value,x)\n",
    "sp.Eq(v,v_value)"
   ]
  },
  {
   "cell_type": "code",
   "execution_count": 155,
   "metadata": {},
   "outputs": [
    {
     "output_type": "execute_result",
     "data": {
      "text/plain": [
       "⌠                  ⌠      \n",
       "⎮    x         x   ⎮  x   \n",
       "⎮ x⋅ℯ  dx = x⋅ℯ  - ⎮ ℯ  dx\n",
       "⌡                  ⌡      "
      ],
      "text/latex": "$\\displaystyle \\int x e^{x}\\, dx = x e^{x} - \\int e^{x}\\, dx$"
     },
     "metadata": {},
     "execution_count": 155
    }
   ],
   "source": [
    "#Reescribiendo la integral como integral por partes udv = uv- dvu\n",
    "udv = u_value*dv_value\n",
    "uv = u_value*v_value\n",
    "vdu = v_value*du_value\n",
    "sp.Eq(sp.Integral(udv),uv-sp.Integral(vdu))"
   ]
  },
  {
   "cell_type": "code",
   "execution_count": 156,
   "metadata": {},
   "outputs": [
    {
     "output_type": "execute_result",
     "data": {
      "text/plain": [
       "⌠           \n",
       "⎮  x       x\n",
       "⎮ ℯ  dx = ℯ \n",
       "⌡           "
      ],
      "text/latex": "$\\displaystyle \\int e^{x}\\, dx = e^{x}$"
     },
     "metadata": {},
     "execution_count": 156
    }
   ],
   "source": [
    "# Resolviendo integral\n",
    "solution_vdu = sp.integrate(vdu,x)\n",
    "sp.Eq(sp.Integral(vdu),solution_vdu)"
   ]
  },
  {
   "cell_type": "code",
   "execution_count": 157,
   "metadata": {},
   "outputs": [
    {
     "output_type": "execute_result",
     "data": {
      "text/plain": [
       "⌠                         \n",
       "⎮    x                   x\n",
       "⎮ x⋅ℯ  dx = C + (x - 1)⋅ℯ \n",
       "⌡                         "
      ],
      "text/latex": "$\\displaystyle \\int x e^{x}\\, dx = C + \\left(x - 1\\right) e^{x}$"
     },
     "metadata": {},
     "execution_count": 157
    }
   ],
   "source": [
    "# Solución final\n",
    "solution = uv-solution_vdu\n",
    "solution = solution.simplify()\n",
    "sp.Eq(sp.Integral(udv),solution+C)"
   ]
  },
  {
   "source": [
    "# Funciones del procedimiento de integración por partes"
   ],
   "cell_type": "markdown",
   "metadata": {}
  },
  {
   "cell_type": "code",
   "execution_count": 158,
   "metadata": {},
   "outputs": [],
   "source": [
    "# Funciones de los pasos del procedimiento\n",
    "\n",
    "def Fintegrate(function):\n",
    "    solution = sp.integrate(function, x)\n",
    "    solution_view = sp.Eq(integral,solution+C)\n",
    "    values = {'solution':solution, 'solution_view':solution_view}\n",
    "    return values\n",
    "\n",
    "def Fintegrate_by_parts(u_value,dv_value):\n",
    "    # Valor de u\n",
    "    u_view = sp.Eq(u,u_value)\n",
    "\n",
    "    # Obtener dv mediante la derivada de u\n",
    "    du_value = sp.diff(u_value)\n",
    "    du_view = sp.Eq(du,du_value*dx)\n",
    "\n",
    "    # Valor de dv\n",
    "    dv_view = sp.Eq(dv,dv_value*dx)\n",
    "\n",
    "    # Obtener v mediante la integral de dv\n",
    "    v_value = sp.integrate(dv_value,x)\n",
    "    v_view = sp.Eq(v,v_value)\n",
    "\n",
    "    #Reescribiendo la integral como integral por partes udv = uv- dvu\n",
    "    udv = u_value*dv_value\n",
    "    uv = u_value*v_value\n",
    "    vdu = v_value*du_value\n",
    "    integral_by_parts_view = sp.Eq(sp.Integral(udv),uv-sp.Integral(vdu))\n",
    "\n",
    "    # Resolviendo integral\n",
    "    solution_vdu = sp.integrate(vdu,x)\n",
    "    solution_vdu_view = sp.Eq(sp.Integral(vdu),solution_vdu)\n",
    "\n",
    "    # Solución final\n",
    "    solution = uv-solution_vdu\n",
    "    solution_view = sp.Eq(sp.Integral(udv),solution+C)\n",
    "    solution_simplify = solution.simplify()\n",
    "    solution_simplify_view =sp.Eq(sp.Integral(udv),solution_simplify+C)\n",
    "\n",
    "    values = {\n",
    "            'u_value':u_value,\n",
    "            'u_view':u_view,\n",
    "            'du_value':du_value,\n",
    "            'du_view':du_view,\n",
    "            'dv_value':dv_value,\n",
    "            'dv_view':dv_view,\n",
    "            'v_value':v_value,\n",
    "            'v_view':v_view,\n",
    "            'udv':udv,\n",
    "            'uv':uv,\n",
    "            'vdu':vdu,\n",
    "            'integral_by_parts_view':integral_by_parts_view,\n",
    "            'solution_vdu':solution_vdu,\n",
    "            'solution_vdu_view':solution_vdu_view,\n",
    "            'solution':solution,\n",
    "            'solution_view':solution_view,\n",
    "            'solution_simplify':solution_simplify,\n",
    "            'solution_simplify_view':solution_simplify_view}\n",
    "    return values\n",
    "\n",
    "\n",
    "\n",
    "# Example\n",
    "funtion = x*sp.log(x)\n",
    "solution_integrate = Fintegrate(function)\n",
    "integrate_by_parts = Fintegrate_by_parts(x,sp.log(x))"
   ]
  },
  {
   "source": [
    "## Fallas del método ALPES"
   ],
   "cell_type": "markdown",
   "metadata": {}
  },
  {
   "cell_type": "code",
   "execution_count": 159,
   "metadata": {},
   "outputs": [
    {
     "output_type": "execute_result",
     "data": {
      "text/plain": [
       "x⋅log(x)"
      ],
      "text/latex": "$\\displaystyle x \\log{\\left(x \\right)}$"
     },
     "metadata": {},
     "execution_count": 159
    }
   ],
   "source": [
    "function = x*sp.log(x)\n",
    "function"
   ]
  },
  {
   "cell_type": "code",
   "execution_count": 160,
   "metadata": {},
   "outputs": [
    {
     "output_type": "execute_result",
     "data": {
      "text/plain": [
       "⌠            \n",
       "⎮ x⋅log(x) dx\n",
       "⌡            "
      ],
      "text/latex": "$\\displaystyle \\int x \\log{\\left(x \\right)}\\, dx$"
     },
     "metadata": {},
     "execution_count": 160
    }
   ],
   "source": [
    "sp.Integral(function)"
   ]
  },
  {
   "cell_type": "code",
   "execution_count": 161,
   "metadata": {},
   "outputs": [],
   "source": [
    "solution_integrate = Fintegrate(function)"
   ]
  },
  {
   "cell_type": "code",
   "execution_count": 162,
   "metadata": {},
   "outputs": [
    {
     "output_type": "execute_result",
     "data": {
      "text/plain": [
       "⌠                2           2\n",
       "⎮    x          x ⋅log(x)   x \n",
       "⎮ x⋅ℯ  dx = C + ───────── - ──\n",
       "⌡                   2       4 "
      ],
      "text/latex": "$\\displaystyle \\int x e^{x}\\, dx = C + \\frac{x^{2} \\log{\\left(x \\right)}}{2} - \\frac{x^{2}}{4}$"
     },
     "metadata": {},
     "execution_count": 162
    }
   ],
   "source": [
    "solution_integrate['solution_view']"
   ]
  },
  {
   "cell_type": "code",
   "execution_count": 163,
   "metadata": {},
   "outputs": [],
   "source": [
    "integrate_by_parts = Fintegrate_by_parts(x,sp.log(x))"
   ]
  },
  {
   "cell_type": "code",
   "execution_count": 164,
   "metadata": {},
   "outputs": [
    {
     "output_type": "execute_result",
     "data": {
      "text/plain": [
       "u = x"
      ],
      "text/latex": "$\\displaystyle u = x$"
     },
     "metadata": {},
     "execution_count": 164
    }
   ],
   "source": [
    "integrate_by_parts['u_view'] "
   ]
  },
  {
   "cell_type": "code",
   "execution_count": 165,
   "metadata": {},
   "outputs": [
    {
     "output_type": "execute_result",
     "data": {
      "text/plain": [
       "du = dx"
      ],
      "text/latex": "$\\displaystyle du = dx$"
     },
     "metadata": {},
     "execution_count": 165
    }
   ],
   "source": [
    "integrate_by_parts['du_view']"
   ]
  },
  {
   "cell_type": "code",
   "execution_count": 166,
   "metadata": {},
   "outputs": [
    {
     "output_type": "execute_result",
     "data": {
      "text/plain": [
       "dv = dx⋅log(x)"
      ],
      "text/latex": "$\\displaystyle dv = dx \\log{\\left(x \\right)}$"
     },
     "metadata": {},
     "execution_count": 166
    }
   ],
   "source": [
    "integrate_by_parts['dv_view']"
   ]
  },
  {
   "cell_type": "code",
   "execution_count": 167,
   "metadata": {},
   "outputs": [
    {
     "output_type": "execute_result",
     "data": {
      "text/plain": [
       "v = x⋅log(x) - x"
      ],
      "text/latex": "$\\displaystyle v = x \\log{\\left(x \\right)} - x$"
     },
     "metadata": {},
     "execution_count": 167
    }
   ],
   "source": [
    "integrate_by_parts['v_view']"
   ]
  },
  {
   "cell_type": "code",
   "execution_count": 168,
   "metadata": {},
   "outputs": [
    {
     "output_type": "execute_result",
     "data": {
      "text/plain": [
       "⌠                                  ⌠                  \n",
       "⎮ x⋅log(x) dx = x⋅(x⋅log(x) - x) - ⎮ (x⋅log(x) - x) dx\n",
       "⌡                                  ⌡                  "
      ],
      "text/latex": "$\\displaystyle \\int x \\log{\\left(x \\right)}\\, dx = x \\left(x \\log{\\left(x \\right)} - x\\right) - \\int \\left(x \\log{\\left(x \\right)} - x\\right)\\, dx$"
     },
     "metadata": {},
     "execution_count": 168
    }
   ],
   "source": [
    "integrate_by_parts['integral_by_parts_view']\n",
    "# Da la misma integral, por lo que se vuelve ciclica"
   ]
  },
  {
   "cell_type": "code",
   "execution_count": 169,
   "metadata": {},
   "outputs": [
    {
     "output_type": "execute_result",
     "data": {
      "text/plain": [
       "                       2             2\n",
       "⌠                     x ⋅log(x)   3⋅x \n",
       "⎮ (x⋅log(x) - x) dx = ───────── - ────\n",
       "⌡                         2        4  "
      ],
      "text/latex": "$\\displaystyle \\int \\left(x \\log{\\left(x \\right)} - x\\right)\\, dx = \\frac{x^{2} \\log{\\left(x \\right)}}{2} - \\frac{3 x^{2}}{4}$"
     },
     "metadata": {},
     "execution_count": 169
    }
   ],
   "source": [
    "integrate_by_parts['solution_vdu_view']"
   ]
  },
  {
   "cell_type": "code",
   "execution_count": 170,
   "metadata": {},
   "outputs": [
    {
     "output_type": "execute_result",
     "data": {
      "text/plain": [
       "                     2             2                   \n",
       "⌠                   x ⋅log(x)   3⋅x                    \n",
       "⎮ x⋅log(x) dx = C - ───────── + ──── + x⋅(x⋅log(x) - x)\n",
       "⌡                       2        4                     "
      ],
      "text/latex": "$\\displaystyle \\int x \\log{\\left(x \\right)}\\, dx = C - \\frac{x^{2} \\log{\\left(x \\right)}}{2} + \\frac{3 x^{2}}{4} + x \\left(x \\log{\\left(x \\right)} - x\\right)$"
     },
     "metadata": {},
     "execution_count": 170
    }
   ],
   "source": [
    "integrate_by_parts['solution_view']"
   ]
  },
  {
   "cell_type": "code",
   "execution_count": 171,
   "metadata": {},
   "outputs": [
    {
     "output_type": "execute_result",
     "data": {
      "text/plain": [
       "                     2               \n",
       "⌠                   x ⋅(2⋅log(x) - 1)\n",
       "⎮ x⋅log(x) dx = C + ─────────────────\n",
       "⌡                           4        "
      ],
      "text/latex": "$\\displaystyle \\int x \\log{\\left(x \\right)}\\, dx = C + \\frac{x^{2} \\left(2 \\log{\\left(x \\right)} - 1\\right)}{4}$"
     },
     "metadata": {},
     "execution_count": 171
    }
   ],
   "source": [
    "integrate_by_parts['solution_simplify_view']"
   ]
  },
  {
   "source": [
    "* Forma correcta, seleccionar u = ln(x) y dv = x\n"
   ],
   "cell_type": "markdown",
   "metadata": {}
  },
  {
   "cell_type": "code",
   "execution_count": 172,
   "metadata": {},
   "outputs": [],
   "source": [
    "integrate_by_parts = Fintegrate_by_parts(sp.log(x),x)"
   ]
  },
  {
   "cell_type": "code",
   "execution_count": 173,
   "metadata": {},
   "outputs": [
    {
     "output_type": "execute_result",
     "data": {
      "text/plain": [
       "                     2           2\n",
       "⌠                   x ⋅log(x)   x \n",
       "⎮ x⋅log(x) dx = C + ───────── - ──\n",
       "⌡                       2       4 "
      ],
      "text/latex": "$\\displaystyle \\int x \\log{\\left(x \\right)}\\, dx = C + \\frac{x^{2} \\log{\\left(x \\right)}}{2} - \\frac{x^{2}}{4}$"
     },
     "metadata": {},
     "execution_count": 173
    }
   ],
   "source": [
    "integrate_by_parts['u_view'] \n",
    "integrate_by_parts['dv_view'] \n",
    "integrate_by_parts['du_view'] \n",
    "integrate_by_parts['v_view'] \n",
    "integrate_by_parts['integral_by_parts_view']\n",
    "integrate_by_parts['solution_vdu_view']\n",
    "integrate_by_parts['solution_view']\n",
    "integrate_by_parts['solution_view']"
   ]
  },
  {
   "cell_type": "code",
   "execution_count": 174,
   "metadata": {},
   "outputs": [
    {
     "output_type": "execute_result",
     "data": {
      "text/plain": [
       "u = log(x)"
      ],
      "text/latex": "$\\displaystyle u = \\log{\\left(x \\right)}$"
     },
     "metadata": {},
     "execution_count": 174
    }
   ],
   "source": [
    "integrate_by_parts['u_view'] "
   ]
  },
  {
   "cell_type": "code",
   "execution_count": 175,
   "metadata": {},
   "outputs": [
    {
     "output_type": "execute_result",
     "data": {
      "text/plain": [
       "     dx\n",
       "du = ──\n",
       "     x "
      ],
      "text/latex": "$\\displaystyle du = \\frac{dx}{x}$"
     },
     "metadata": {},
     "execution_count": 175
    }
   ],
   "source": [
    "integrate_by_parts['du_view'] "
   ]
  },
  {
   "cell_type": "code",
   "execution_count": 176,
   "metadata": {},
   "outputs": [
    {
     "output_type": "execute_result",
     "data": {
      "text/plain": [
       "dv = dx⋅x"
      ],
      "text/latex": "$\\displaystyle dv = dx x$"
     },
     "metadata": {},
     "execution_count": 176
    }
   ],
   "source": [
    "integrate_by_parts['dv_view'] "
   ]
  },
  {
   "cell_type": "code",
   "execution_count": 177,
   "metadata": {},
   "outputs": [
    {
     "output_type": "execute_result",
     "data": {
      "text/plain": [
       "     2\n",
       "    x \n",
       "v = ──\n",
       "    2 "
      ],
      "text/latex": "$\\displaystyle v = \\frac{x^{2}}{2}$"
     },
     "metadata": {},
     "execution_count": 177
    }
   ],
   "source": [
    "integrate_by_parts['v_view']"
   ]
  },
  {
   "cell_type": "code",
   "execution_count": 178,
   "metadata": {},
   "outputs": [
    {
     "output_type": "execute_result",
     "data": {
      "text/plain": [
       "                 2          ⌠     \n",
       "⌠               x ⋅log(x)   ⎮ x   \n",
       "⎮ x⋅log(x) dx = ───────── - ⎮ ─ dx\n",
       "⌡                   2       ⎮ 2   \n",
       "                            ⌡     "
      ],
      "text/latex": "$\\displaystyle \\int x \\log{\\left(x \\right)}\\, dx = \\frac{x^{2} \\log{\\left(x \\right)}}{2} - \\int \\frac{x}{2}\\, dx$"
     },
     "metadata": {},
     "execution_count": 178
    }
   ],
   "source": [
    "integrate_by_parts['integral_by_parts_view']"
   ]
  },
  {
   "cell_type": "code",
   "execution_count": 179,
   "metadata": {},
   "outputs": [
    {
     "output_type": "execute_result",
     "data": {
      "text/plain": [
       "⌠         2\n",
       "⎮ x      x \n",
       "⎮ ─ dx = ──\n",
       "⎮ 2      4 \n",
       "⌡          "
      ],
      "text/latex": "$\\displaystyle \\int \\frac{x}{2}\\, dx = \\frac{x^{2}}{4}$"
     },
     "metadata": {},
     "execution_count": 179
    }
   ],
   "source": [
    "integrate_by_parts['solution_vdu_view']"
   ]
  },
  {
   "cell_type": "code",
   "execution_count": 180,
   "metadata": {},
   "outputs": [
    {
     "output_type": "execute_result",
     "data": {
      "text/plain": [
       "                     2           2\n",
       "⌠                   x ⋅log(x)   x \n",
       "⎮ x⋅log(x) dx = C + ───────── - ──\n",
       "⌡                       2       4 "
      ],
      "text/latex": "$\\displaystyle \\int x \\log{\\left(x \\right)}\\, dx = C + \\frac{x^{2} \\log{\\left(x \\right)}}{2} - \\frac{x^{2}}{4}$"
     },
     "metadata": {},
     "execution_count": 180
    }
   ],
   "source": [
    "integrate_by_parts['solution_view']"
   ]
  },
  {
   "cell_type": "code",
   "execution_count": 181,
   "metadata": {},
   "outputs": [
    {
     "output_type": "execute_result",
     "data": {
      "text/plain": [
       "                     2               \n",
       "⌠                   x ⋅(2⋅log(x) - 1)\n",
       "⎮ x⋅log(x) dx = C + ─────────────────\n",
       "⌡                           4        "
      ],
      "text/latex": "$\\displaystyle \\int x \\log{\\left(x \\right)}\\, dx = C + \\frac{x^{2} \\left(2 \\log{\\left(x \\right)} - 1\\right)}{4}$"
     },
     "metadata": {},
     "execution_count": 181
    }
   ],
   "source": [
    "integrate_by_parts['solution_simplify_view']"
   ]
  },
  {
   "source": [
    "## Integral cíclica"
   ],
   "cell_type": "markdown",
   "metadata": {}
  },
  {
   "cell_type": "code",
   "execution_count": 182,
   "metadata": {},
   "outputs": [
    {
     "output_type": "execute_result",
     "data": {
      "text/plain": [
       " -x       \n",
       "ℯ  ⋅cos(x)"
      ],
      "text/latex": "$\\displaystyle e^{- x} \\cos{\\left(x \\right)}$"
     },
     "metadata": {},
     "execution_count": 182
    }
   ],
   "source": [
    "function = sp.exp(-x)*sp.cos(x)\n",
    "function"
   ]
  },
  {
   "cell_type": "code",
   "execution_count": 183,
   "metadata": {},
   "outputs": [
    {
     "output_type": "execute_result",
     "data": {
      "text/plain": [
       "⌠              \n",
       "⎮  -x          \n",
       "⎮ ℯ  ⋅cos(x) dx\n",
       "⌡              "
      ],
      "text/latex": "$\\displaystyle \\int e^{- x} \\cos{\\left(x \\right)}\\, dx$"
     },
     "metadata": {},
     "execution_count": 183
    }
   ],
   "source": [
    "sp.Integral(function)"
   ]
  },
  {
   "cell_type": "code",
   "execution_count": 184,
   "metadata": {},
   "outputs": [],
   "source": [
    "solution_integrate = Fintegrate(function)"
   ]
  },
  {
   "cell_type": "code",
   "execution_count": 185,
   "metadata": {},
   "outputs": [
    {
     "output_type": "execute_result",
     "data": {
      "text/plain": [
       "⌠                -x           -x       \n",
       "⎮    x          ℯ  ⋅sin(x)   ℯ  ⋅cos(x)\n",
       "⎮ x⋅ℯ  dx = C + ────────── - ──────────\n",
       "⌡                   2            2     "
      ],
      "text/latex": "$\\displaystyle \\int x e^{x}\\, dx = C + \\frac{e^{- x} \\sin{\\left(x \\right)}}{2} - \\frac{e^{- x} \\cos{\\left(x \\right)}}{2}$"
     },
     "metadata": {},
     "execution_count": 185
    }
   ],
   "source": [
    "solution_integrate['solution_view']"
   ]
  },
  {
   "cell_type": "code",
   "execution_count": 186,
   "metadata": {},
   "outputs": [],
   "source": [
    "integrate_by_parts = Fintegrate_by_parts(sp.exp(-x),sp.cos(x))"
   ]
  },
  {
   "cell_type": "code",
   "execution_count": 187,
   "metadata": {},
   "outputs": [
    {
     "output_type": "execute_result",
     "data": {
      "text/plain": [
       "⌠              \n",
       "⎮  -x          \n",
       "⎮ ℯ  ⋅cos(x) dx\n",
       "⌡              "
      ],
      "text/latex": "$\\displaystyle \\int e^{- x} \\cos{\\left(x \\right)}\\, dx$"
     },
     "metadata": {},
     "execution_count": 187
    }
   ],
   "source": [
    "integrate_by_parts['u_view'] \n",
    "integrate_by_parts['dv_view'] \n",
    "integrate_by_parts['du_view'] \n",
    "integrate_by_parts['v_view'] \n",
    "integrate_by_parts['integral_by_parts_view']\n",
    "integrate_by_parts['solution_vdu_view']\n",
    "integrate_by_parts['solution_view']\n",
    "integrate_by_parts['solution_view']\n",
    "sp.Integral(function)"
   ]
  },
  {
   "cell_type": "code",
   "execution_count": 188,
   "metadata": {},
   "outputs": [
    {
     "output_type": "execute_result",
     "data": {
      "text/plain": [
       "⎛     -x            -x⎞\n",
       "⎝u = ℯ  , du = -dx⋅ℯ  ⎠"
      ],
      "text/latex": "$\\displaystyle \\left( u = e^{- x}, \\  du = - dx e^{- x}\\right)$"
     },
     "metadata": {},
     "execution_count": 188
    }
   ],
   "source": [
    "integrate_by_parts['u_view'], integrate_by_parts['du_view'] "
   ]
  },
  {
   "cell_type": "code",
   "execution_count": 189,
   "metadata": {},
   "outputs": [
    {
     "output_type": "execute_result",
     "data": {
      "text/plain": [
       "(dv = dx⋅cos(x), v = sin(x))"
      ],
      "text/latex": "$\\displaystyle \\left( dv = dx \\cos{\\left(x \\right)}, \\  v = \\sin{\\left(x \\right)}\\right)$"
     },
     "metadata": {},
     "execution_count": 189
    }
   ],
   "source": [
    "integrate_by_parts['dv_view'] ,integrate_by_parts['v_view'] "
   ]
  },
  {
   "cell_type": "code",
   "execution_count": 190,
   "metadata": {},
   "outputs": [
    {
     "output_type": "execute_result",
     "data": {
      "text/plain": [
       "⌠                   ⌠                            \n",
       "⎮  -x               ⎮   -x              -x       \n",
       "⎮ ℯ  ⋅cos(x) dx = - ⎮ -ℯ  ⋅sin(x) dx + ℯ  ⋅sin(x)\n",
       "⌡                   ⌡                            "
      ],
      "text/latex": "$\\displaystyle \\int e^{- x} \\cos{\\left(x \\right)}\\, dx = - \\int \\left(- e^{- x} \\sin{\\left(x \\right)}\\right)\\, dx + e^{- x} \\sin{\\left(x \\right)}$"
     },
     "metadata": {},
     "execution_count": 190
    }
   ],
   "source": [
    "integrate_by_parts['integral_by_parts_view']"
   ]
  },
  {
   "source": [
    "Procedimiento integral ciclica"
   ],
   "cell_type": "markdown",
   "metadata": {}
  },
  {
   "cell_type": "code",
   "execution_count": 191,
   "metadata": {},
   "outputs": [
    {
     "output_type": "execute_result",
     "data": {
      "text/plain": [
       "  -x       \n",
       "-ℯ  ⋅sin(x)"
      ],
      "text/latex": "$\\displaystyle - e^{- x} \\sin{\\left(x \\right)}$"
     },
     "metadata": {},
     "execution_count": 191
    }
   ],
   "source": [
    "function2 = integrate_by_parts['v_value']*integrate_by_parts['du_value']\n",
    "function2 "
   ]
  },
  {
   "cell_type": "code",
   "execution_count": 192,
   "metadata": {},
   "outputs": [],
   "source": [
    "integrate_by_parts2 = Fintegrate_by_parts(integrate_by_parts['du_value'],integrate_by_parts['v_value'])"
   ]
  },
  {
   "cell_type": "code",
   "execution_count": 193,
   "metadata": {},
   "outputs": [
    {
     "output_type": "execute_result",
     "data": {
      "text/plain": [
       "⌠               \n",
       "⎮   -x          \n",
       "⎮ -ℯ  ⋅sin(x) dx\n",
       "⌡               "
      ],
      "text/latex": "$\\displaystyle \\int \\left(- e^{- x} \\sin{\\left(x \\right)}\\right)\\, dx$"
     },
     "metadata": {},
     "execution_count": 193
    }
   ],
   "source": [
    "integrate_by_parts2['u_view'] \n",
    "integrate_by_parts2['dv_view'] \n",
    "integrate_by_parts2['du_view'] \n",
    "integrate_by_parts2['v_view'] \n",
    "integrate_by_parts2['integral_by_parts_view']\n",
    "integrate_by_parts2['solution_vdu_view']\n",
    "integrate_by_parts2['solution_view']\n",
    "integrate_by_parts2['solution_view']\n",
    "sp.Integral(function2)"
   ]
  },
  {
   "cell_type": "code",
   "execution_count": 194,
   "metadata": {},
   "outputs": [
    {
     "output_type": "execute_result",
     "data": {
      "text/plain": [
       "⎛      -x           -x⎞\n",
       "⎝u = -ℯ  , du = dx⋅ℯ  ⎠"
      ],
      "text/latex": "$\\displaystyle \\left( u = - e^{- x}, \\  du = dx e^{- x}\\right)$"
     },
     "metadata": {},
     "execution_count": 194
    }
   ],
   "source": [
    "integrate_by_parts2['u_view'], integrate_by_parts2['du_view'] "
   ]
  },
  {
   "cell_type": "code",
   "execution_count": 195,
   "metadata": {},
   "outputs": [
    {
     "output_type": "execute_result",
     "data": {
      "text/plain": [
       "(dv = dx⋅sin(x), v = -cos(x))"
      ],
      "text/latex": "$\\displaystyle \\left( dv = dx \\sin{\\left(x \\right)}, \\  v = - \\cos{\\left(x \\right)}\\right)$"
     },
     "metadata": {},
     "execution_count": 195
    }
   ],
   "source": [
    "integrate_by_parts2['dv_view'] ,integrate_by_parts2['v_view'] "
   ]
  },
  {
   "cell_type": "code",
   "execution_count": 197,
   "metadata": {},
   "outputs": [
    {
     "output_type": "execute_result",
     "data": {
      "text/plain": [
       "⌠                    ⌠                            \n",
       "⎮   -x               ⎮   -x              -x       \n",
       "⎮ -ℯ  ⋅sin(x) dx = - ⎮ -ℯ  ⋅cos(x) dx + ℯ  ⋅cos(x)\n",
       "⌡                    ⌡                            "
      ],
      "text/latex": "$\\displaystyle \\int \\left(- e^{- x} \\sin{\\left(x \\right)}\\right)\\, dx = - \\int \\left(- e^{- x} \\cos{\\left(x \\right)}\\right)\\, dx + e^{- x} \\cos{\\left(x \\right)}$"
     },
     "metadata": {},
     "execution_count": 197
    }
   ],
   "source": [
    "integrate_by_parts2['integral_by_parts_view']"
   ]
  },
  {
   "cell_type": "code",
   "execution_count": 201,
   "metadata": {},
   "outputs": [
    {
     "output_type": "execute_result",
     "data": {
      "text/plain": [
       "⌠                 ⌠                                         \n",
       "⎮  -x             ⎮   -x              -x           -x       \n",
       "⎮ ℯ  ⋅cos(x) dx = ⎮ -ℯ  ⋅cos(x) dx + ℯ  ⋅sin(x) - ℯ  ⋅cos(x)\n",
       "⌡                 ⌡                                         "
      ],
      "text/latex": "$\\displaystyle \\int e^{- x} \\cos{\\left(x \\right)}\\, dx = \\int \\left(- e^{- x} \\cos{\\left(x \\right)}\\right)\\, dx + e^{- x} \\sin{\\left(x \\right)} - e^{- x} \\cos{\\left(x \\right)}$"
     },
     "metadata": {},
     "execution_count": 201
    }
   ],
   "source": [
    "# Integral segundo ciclo, acomodando terminos\n",
    "udv = sp.Integral(integrate_by_parts['udv'])\n",
    "uv = integrate_by_parts['uv']\n",
    "uv2 = integrate_by_parts2['uv']\n",
    "vdu2 = sp.Integral(integrate_by_parts2['vdu'])\n",
    "sp.Eq(udv,uv-(uv2-vdu2))\n"
   ]
  },
  {
   "cell_type": "code",
   "execution_count": 126,
   "metadata": {},
   "outputs": [
    {
     "output_type": "execute_result",
     "data": {
      "text/plain": [
       "  ⌠                                        \n",
       "  ⎮  -x              -x           -x       \n",
       "2⋅⎮ ℯ  ⋅cos(x) dx = ℯ  ⋅sin(x) - ℯ  ⋅cos(x)\n",
       "  ⌡                                        "
      ],
      "text/latex": "$\\displaystyle 2 \\int e^{- x} \\cos{\\left(x \\right)}\\, dx = e^{- x} \\sin{\\left(x \\right)} - e^{- x} \\cos{\\left(x \\right)}$"
     },
     "metadata": {},
     "execution_count": 126
    }
   ],
   "source": [
    "# Solución, se pasan todas las integrales de un lado de la ecuación,y al ser iguales se suman\n",
    "sp.Eq(2*udv,(uv-uv2))"
   ]
  },
  {
   "cell_type": "code",
   "execution_count": 127,
   "metadata": {},
   "outputs": [
    {
     "output_type": "execute_result",
     "data": {
      "text/plain": [
       "⌠                  -x           -x       \n",
       "⎮  -x             ℯ  ⋅sin(x)   ℯ  ⋅cos(x)\n",
       "⎮ ℯ  ⋅cos(x) dx = ────────── - ──────────\n",
       "⌡                     2            2     "
      ],
      "text/latex": "$\\displaystyle \\int e^{- x} \\cos{\\left(x \\right)}\\, dx = \\frac{e^{- x} \\sin{\\left(x \\right)}}{2} - \\frac{e^{- x} \\cos{\\left(x \\right)}}{2}$"
     },
     "metadata": {},
     "execution_count": 127
    }
   ],
   "source": [
    "# Dividir todo el resultado entre 2\n",
    "sp.Eq(udv,(uv-uv2)/2)"
   ]
  },
  {
   "cell_type": "code",
   "execution_count": null,
   "metadata": {},
   "outputs": [],
   "source": []
  }
 ]
}