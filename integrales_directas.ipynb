{
 "metadata": {
  "language_info": {
   "codemirror_mode": {
    "name": "ipython",
    "version": 3
   },
   "file_extension": ".py",
   "mimetype": "text/x-python",
   "name": "python",
   "nbconvert_exporter": "python",
   "pygments_lexer": "ipython3",
   "version": "3.8.8"
  },
  "orig_nbformat": 2,
  "kernelspec": {
   "name": "python388jvsc74a57bd0c72a629dba5ae9edebcad565c17c3988d814021371aabb3db62cb04d2b10dbfe",
   "display_name": "Python 3.8.8 64-bit ('base': conda)"
  }
 },
 "nbformat": 4,
 "nbformat_minor": 2,
 "cells": [
  {
   "source": [
    "# Integrales directas"
   ],
   "cell_type": "markdown",
   "metadata": {}
  },
  {
   "cell_type": "code",
   "execution_count": 1,
   "metadata": {},
   "outputs": [],
   "source": [
    "import sympy as sp\n",
    "x, y, z, C= sp.symbols('x y z C')\n",
    "sp.init_printing(use_latex='mathjax')"
   ]
  },
  {
   "source": [
    "## Recomendaciones básicas para calcular integrales e integral de polinomios"
   ],
   "cell_type": "markdown",
   "metadata": {}
  },
  {
   "cell_type": "code",
   "execution_count": 4,
   "metadata": {},
   "outputs": [
    {
     "output_type": "execute_result",
     "data": {
      "text/plain": [
       "       4      3      \n",
       "C + 2⋅x  - 3⋅x  + 4⋅x"
      ],
      "text/latex": "$\\displaystyle C + 2 x^{4} - 3 x^{3} + 4 x$"
     },
     "metadata": {},
     "execution_count": 4
    }
   ],
   "source": [
    "result = sp.integrate(8*x**(3)-9*x**(2)+4,x)\n",
    "result + C"
   ]
  },
  {
   "source": [
    "## Integrales sencillas: integrales con radicales"
   ],
   "cell_type": "markdown",
   "metadata": {}
  },
  {
   "cell_type": "code",
   "execution_count": 7,
   "metadata": {},
   "outputs": [
    {
     "output_type": "execute_result",
     "data": {
      "text/plain": [
       "       3/2     \n",
       "    2⋅x        \n",
       "C + ────── + √x\n",
       "      3        "
      ],
      "text/latex": "$\\displaystyle C + \\frac{2 x^{\\frac{3}{2}}}{3} + \\sqrt{x}$"
     },
     "metadata": {},
     "execution_count": 7
    }
   ],
   "source": [
    "result = sp.integrate(sp.sqrt(x)+1/(2*sp.sqrt(x)),x)\n",
    "result + C"
   ]
  },
  {
   "source": [
    "## Integral de un radical con una constante"
   ],
   "cell_type": "markdown",
   "metadata": {}
  },
  {
   "cell_type": "code",
   "execution_count": 33,
   "metadata": {},
   "outputs": [
    {
     "output_type": "execute_result",
     "data": {
      "text/plain": [
       "       7/4    \n",
       "    4⋅x       \n",
       "C + ────── + x\n",
       "      7       "
      ],
      "text/latex": "$\\displaystyle C + \\frac{4 x^{\\frac{7}{4}}}{7} + x$"
     },
     "metadata": {},
     "execution_count": 33
    }
   ],
   "source": [
    "result = sp.integrate(x**sp.Rational(3,4)+1,x)\n",
    "result + Ca"
   ]
  },
  {
   "source": [
    "## Integrales con fracciones y exponentes"
   ],
   "cell_type": "markdown",
   "metadata": {}
  },
  {
   "cell_type": "code",
   "execution_count": 35,
   "metadata": {},
   "outputs": [
    {
     "output_type": "execute_result",
     "data": {
      "text/plain": [
       "       3/2     \n",
       "    2⋅x      2 \n",
       "C + ────── + ──\n",
       "      3      √x"
      ],
      "text/latex": "$\\displaystyle C + \\frac{2 x^{\\frac{3}{2}}}{3} + \\frac{2}{\\sqrt{x}}$"
     },
     "metadata": {},
     "execution_count": 35
    }
   ],
   "source": [
    "result = sp.integrate((x**(2)-1)/(x**sp.Rational(3,2)),x)\n",
    "result + C"
   ]
  },
  {
   "source": [
    "## Integrales trigonométricas"
   ],
   "cell_type": "markdown",
   "metadata": {}
  },
  {
   "cell_type": "code",
   "execution_count": 37,
   "metadata": {},
   "outputs": [
    {
     "output_type": "execute_result",
     "data": {
      "text/plain": [
       "C + 5⋅sin(x) - 4⋅cos(x)"
      ],
      "text/latex": "$\\displaystyle C + 5 \\sin{\\left(x \\right)} - 4 \\cos{\\left(x \\right)}$"
     },
     "metadata": {},
     "execution_count": 37
    }
   ],
   "source": [
    "result = sp.integrate(5*sp.cos(x)+4*sp.sin(x),x)\n",
    "result + C"
   ]
  },
  {
   "source": [
    "## Integrales con funciones trigonométricas inversas"
   ],
   "cell_type": "markdown",
   "metadata": {}
  },
  {
   "cell_type": "code",
   "execution_count": 40,
   "metadata": {},
   "outputs": [
    {
     "output_type": "execute_result",
     "data": {
      "text/plain": [
       "C - tan(y) + sec(y)"
      ],
      "text/latex": "$\\displaystyle C - \\tan{\\left(y \\right)} + \\sec{\\left(y \\right)}$"
     },
     "metadata": {},
     "execution_count": 40
    }
   ],
   "source": [
    "result = sp.integrate(sp.sec(y)*(sp.tan(y)-sp.sec(y)),y)\n",
    "result + C"
   ]
  },
  {
   "source": [
    "## Integrales con producto de funciones trigonométricas inversas"
   ],
   "cell_type": "markdown",
   "metadata": {}
  },
  {
   "cell_type": "code",
   "execution_count": 46,
   "metadata": {},
   "outputs": [
    {
     "output_type": "execute_result",
     "data": {
      "text/plain": [
       "          1   \n",
       "C + t + ──────\n",
       "        sin(t)"
      ],
      "text/latex": "$\\displaystyle C + t + \\frac{1}{\\sin{\\left(t \\right)}}$"
     },
     "metadata": {},
     "execution_count": 46
    }
   ],
   "source": [
    "t = sp.symbols(\"t\")\n",
    "result = sp.integrate(1-sp.csc(t)*sp.cot(t),t)\n",
    "result + C"
   ]
  },
  {
   "source": [
    "## Integrales con cuadrado de funciones trigonométricas inversas"
   ],
   "cell_type": "markdown",
   "metadata": {}
  },
  {
   "cell_type": "code",
   "execution_count": 49,
   "metadata": {},
   "outputs": [
    {
     "output_type": "execute_result",
     "data": {
      "text/plain": [
       "       2   cos(x)\n",
       "C + 2⋅x  + ──────\n",
       "           sin(x)"
      ],
      "text/latex": "$\\displaystyle C + 2 x^{2} + \\frac{\\cos{\\left(x \\right)}}{\\sin{\\left(x \\right)}}$"
     },
     "metadata": {},
     "execution_count": 49
    }
   ],
   "source": [
    "result = sp.integrate(4*x-sp.csc(x)**2,x)\n",
    "result + C"
   ]
  }
 ]
}