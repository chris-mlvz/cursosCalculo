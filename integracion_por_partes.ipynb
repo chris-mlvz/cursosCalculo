{
 "metadata": {
  "language_info": {
   "codemirror_mode": {
    "name": "ipython",
    "version": 3
   },
   "file_extension": ".py",
   "mimetype": "text/x-python",
   "name": "python",
   "nbconvert_exporter": "python",
   "pygments_lexer": "ipython3",
   "version": "3.8.8"
  },
  "orig_nbformat": 2,
  "kernelspec": {
   "name": "python388jvsc74a57bd0c72a629dba5ae9edebcad565c17c3988d814021371aabb3db62cb04d2b10dbfe",
   "display_name": "Python 3.8.8 64-bit ('base': conda)"
  }
 },
 "nbformat": 4,
 "nbformat_minor": 2,
 "cells": [
  {
   "source": [
    "# Integración por partes"
   ],
   "cell_type": "markdown",
   "metadata": {}
  },
  {
   "cell_type": "code",
   "execution_count": 2,
   "metadata": {},
   "outputs": [],
   "source": [
    "import sympy as sp \n",
    "x, y, z, C, u, v, du, dv, dx = sp.symbols('x y z C u v du dv dx')\n",
    "sp.init_printing(use_latex='mathjax')"
   ]
  },
  {
   "source": [
    "## Método ALPES"
   ],
   "cell_type": "markdown",
   "metadata": {}
  },
  {
   "cell_type": "code",
   "execution_count": 3,
   "metadata": {},
   "outputs": [
    {
     "output_type": "execute_result",
     "data": {
      "text/plain": [
       " x       \n",
       "ℯ ⋅sin(x)"
      ],
      "text/latex": "$\\displaystyle e^{x} \\sin{\\left(x \\right)}$"
     },
     "metadata": {},
     "execution_count": 3
    }
   ],
   "source": [
    "function = sp.exp(x)*sp.sin(x)\n",
    "function"
   ]
  },
  {
   "cell_type": "code",
   "execution_count": 4,
   "metadata": {},
   "outputs": [
    {
     "output_type": "execute_result",
     "data": {
      "text/plain": [
       "⌠             \n",
       "⎮  x          \n",
       "⎮ ℯ ⋅sin(x) dx\n",
       "⌡             "
      ],
      "text/latex": "$\\displaystyle \\int e^{x} \\sin{\\left(x \\right)}\\, dx$"
     },
     "metadata": {},
     "execution_count": 4
    }
   ],
   "source": [
    "sp.Integral(function)"
   ]
  },
  {
   "cell_type": "code",
   "execution_count": 5,
   "metadata": {},
   "outputs": [
    {
     "output_type": "execute_result",
     "data": {
      "text/plain": [
       " x\n",
       "ℯ "
      ],
      "text/latex": "$\\displaystyle e^{x}$"
     },
     "metadata": {},
     "execution_count": 5
    }
   ],
   "source": [
    "u_value = sp.exp(x)\n",
    "u_value"
   ]
  },
  {
   "cell_type": "code",
   "execution_count": 6,
   "metadata": {},
   "outputs": [
    {
     "output_type": "execute_result",
     "data": {
      "text/plain": [
       "dx⋅sin(x)"
      ],
      "text/latex": "$\\displaystyle dx \\sin{\\left(x \\right)}$"
     },
     "metadata": {},
     "execution_count": 6
    }
   ],
   "source": [
    "dv_value = sp.sin(x)\n",
    "dv_value*dx"
   ]
  },
  {
   "source": [
    "## Integración por partes: potencias y funciones trigonométricas"
   ],
   "cell_type": "markdown",
   "metadata": {}
  },
  {
   "cell_type": "code",
   "execution_count": 7,
   "metadata": {},
   "outputs": [
    {
     "output_type": "execute_result",
     "data": {
      "text/plain": [
       "x⋅cos(x)"
      ],
      "text/latex": "$\\displaystyle x \\cos{\\left(x \\right)}$"
     },
     "metadata": {},
     "execution_count": 7
    }
   ],
   "source": [
    "# Función a integrar\n",
    "function = x*sp.cos(x)\n",
    "function"
   ]
  },
  {
   "cell_type": "code",
   "execution_count": 8,
   "metadata": {},
   "outputs": [
    {
     "output_type": "execute_result",
     "data": {
      "text/plain": [
       "⌠            \n",
       "⎮ x⋅cos(x) dx\n",
       "⌡            "
      ],
      "text/latex": "$\\displaystyle \\int x \\cos{\\left(x \\right)}\\, dx$"
     },
     "metadata": {},
     "execution_count": 8
    }
   ],
   "source": [
    "# Integral a resolver\n",
    "integral = sp.Integral(function)\n",
    "integral"
   ]
  },
  {
   "source": [
    "* Integración directa"
   ],
   "cell_type": "markdown",
   "metadata": {}
  },
  {
   "cell_type": "code",
   "execution_count": 18,
   "metadata": {},
   "outputs": [
    {
     "output_type": "execute_result",
     "data": {
      "text/plain": [
       "⌠                                \n",
       "⎮ x⋅cos(x) dx = x⋅sin(x) + cos(x)\n",
       "⌡                                "
      ],
      "text/latex": "$\\displaystyle \\int x \\cos{\\left(x \\right)}\\, dx = x \\sin{\\left(x \\right)} + \\cos{\\left(x \\right)}$"
     },
     "metadata": {},
     "execution_count": 18
    }
   ],
   "source": [
    "solution = sp.integrate(function, x)\n",
    "sp.Eq(integral,solution)"
   ]
  },
  {
   "source": [
    "* Integración por partes"
   ],
   "cell_type": "markdown",
   "metadata": {}
  },
  {
   "cell_type": "code",
   "execution_count": 19,
   "metadata": {},
   "outputs": [
    {
     "output_type": "execute_result",
     "data": {
      "text/plain": [
       "u = x"
      ],
      "text/latex": "$\\displaystyle u = x$"
     },
     "metadata": {},
     "execution_count": 19
    }
   ],
   "source": [
    "# Valor de u\n",
    "u_value = x\n",
    "sp.Eq(u,u_value)"
   ]
  },
  {
   "cell_type": "code",
   "execution_count": 20,
   "metadata": {},
   "outputs": [
    {
     "output_type": "execute_result",
     "data": {
      "text/plain": [
       "du = 1"
      ],
      "text/latex": "$\\displaystyle du = 1$"
     },
     "metadata": {},
     "execution_count": 20
    }
   ],
   "source": [
    "# Obtener dv mediante la derivada de u\n",
    "du_value = sp.diff(u_value)\n",
    "sp.Eq(du,du_value)"
   ]
  },
  {
   "cell_type": "code",
   "execution_count": 21,
   "metadata": {},
   "outputs": [
    {
     "output_type": "execute_result",
     "data": {
      "text/plain": [
       "dv = dx⋅cos(x)"
      ],
      "text/latex": "$\\displaystyle dv = dx \\cos{\\left(x \\right)}$"
     },
     "metadata": {},
     "execution_count": 21
    }
   ],
   "source": [
    "# Valor de dv\n",
    "dv_value = sp.cos(x)\n",
    "sp.Eq(dv,dv_value*dx)"
   ]
  },
  {
   "cell_type": "code",
   "execution_count": 22,
   "metadata": {},
   "outputs": [
    {
     "output_type": "execute_result",
     "data": {
      "text/plain": [
       "v = sin(x)"
      ],
      "text/latex": "$\\displaystyle v = \\sin{\\left(x \\right)}$"
     },
     "metadata": {},
     "execution_count": 22
    }
   ],
   "source": [
    "# Obtener v mediante la integral de dv\n",
    "v_value = sp.integrate(dv_value,x)\n",
    "sp.Eq(v,v_value)"
   ]
  },
  {
   "cell_type": "code",
   "execution_count": 14,
   "metadata": {},
   "outputs": [
    {
     "output_type": "execute_result",
     "data": {
      "text/plain": [
       "⌠                          ⌠          \n",
       "⎮ x⋅cos(x) dx = x⋅sin(x) - ⎮ sin(x) dx\n",
       "⌡                          ⌡          "
      ],
      "text/latex": "$\\displaystyle \\int x \\cos{\\left(x \\right)}\\, dx = x \\sin{\\left(x \\right)} - \\int \\sin{\\left(x \\right)}\\, dx$"
     },
     "metadata": {},
     "execution_count": 14
    }
   ],
   "source": [
    "#Reescribiendo la integral como integral por partes udv = uv- dvu\n",
    "udv = u_value*dv_value\n",
    "uv = u_value*v_value\n",
    "vdu = v_value*du_value\n",
    "sp.Eq(sp.Integral(udv),uv-sp.Integral(vdu))"
   ]
  },
  {
   "cell_type": "code",
   "execution_count": 23,
   "metadata": {},
   "outputs": [
    {
     "output_type": "execute_result",
     "data": {
      "text/plain": [
       "⌠                    \n",
       "⎮ sin(x) dx = -cos(x)\n",
       "⌡                    "
      ],
      "text/latex": "$\\displaystyle \\int \\sin{\\left(x \\right)}\\, dx = - \\cos{\\left(x \\right)}$"
     },
     "metadata": {},
     "execution_count": 23
    }
   ],
   "source": [
    "# Resolviendo integral\n",
    "solution_vdu = sp.integrate(vdu,x)\n",
    "sp.Eq(sp.Integral(vdu),solution_vdu)"
   ]
  },
  {
   "cell_type": "code",
   "execution_count": 24,
   "metadata": {},
   "outputs": [
    {
     "output_type": "execute_result",
     "data": {
      "text/plain": [
       "⌠                                    \n",
       "⎮ x⋅cos(x) dx = C + x⋅sin(x) + cos(x)\n",
       "⌡                                    "
      ],
      "text/latex": "$\\displaystyle \\int x \\cos{\\left(x \\right)}\\, dx = C + x \\sin{\\left(x \\right)} + \\cos{\\left(x \\right)}$"
     },
     "metadata": {},
     "execution_count": 24
    }
   ],
   "source": [
    "# Solución final\n",
    "sp.Eq(sp.Integral(udv),uv-solution_vdu+C)"
   ]
  },
  {
   "source": [
    "## Integración por partes: funciones de potencia con exponencial"
   ],
   "cell_type": "markdown",
   "metadata": {}
  },
  {
   "cell_type": "code",
   "execution_count": 26,
   "metadata": {},
   "outputs": [
    {
     "output_type": "execute_result",
     "data": {
      "text/plain": [
       "   x\n",
       "x⋅ℯ "
      ],
      "text/latex": "$\\displaystyle x e^{x}$"
     },
     "metadata": {},
     "execution_count": 26
    }
   ],
   "source": [
    "# Función a integrar\n",
    "function = x*sp.exp(x)\n",
    "function"
   ]
  },
  {
   "cell_type": "code",
   "execution_count": 27,
   "metadata": {},
   "outputs": [
    {
     "output_type": "execute_result",
     "data": {
      "text/plain": [
       "⌠        \n",
       "⎮    x   \n",
       "⎮ x⋅ℯ  dx\n",
       "⌡        "
      ],
      "text/latex": "$\\displaystyle \\int x e^{x}\\, dx$"
     },
     "metadata": {},
     "execution_count": 27
    }
   ],
   "source": [
    "# Integral a resolver\n",
    "integral = sp.Integral(function)\n",
    "integral"
   ]
  },
  {
   "source": [
    "* Integración directa"
   ],
   "cell_type": "markdown",
   "metadata": {}
  },
  {
   "cell_type": "code",
   "execution_count": 28,
   "metadata": {},
   "outputs": [
    {
     "output_type": "execute_result",
     "data": {
      "text/plain": [
       "⌠                     \n",
       "⎮    x               x\n",
       "⎮ x⋅ℯ  dx = (x - 1)⋅ℯ \n",
       "⌡                     "
      ],
      "text/latex": "$\\displaystyle \\int x e^{x}\\, dx = \\left(x - 1\\right) e^{x}$"
     },
     "metadata": {},
     "execution_count": 28
    }
   ],
   "source": [
    "solution = sp.integrate(function, x)\n",
    "sp.Eq(integral,solution)"
   ]
  },
  {
   "source": [
    "* Integración por partes"
   ],
   "cell_type": "markdown",
   "metadata": {}
  },
  {
   "cell_type": "code",
   "execution_count": 30,
   "metadata": {},
   "outputs": [
    {
     "output_type": "execute_result",
     "data": {
      "text/plain": [
       "u = x"
      ],
      "text/latex": "$\\displaystyle u = x$"
     },
     "metadata": {},
     "execution_count": 30
    }
   ],
   "source": [
    "# Valor de u\n",
    "u_value = x\n",
    "sp.Eq(u,u_value)"
   ]
  },
  {
   "cell_type": "code",
   "execution_count": 31,
   "metadata": {},
   "outputs": [
    {
     "output_type": "execute_result",
     "data": {
      "text/plain": [
       "du = 1"
      ],
      "text/latex": "$\\displaystyle du = 1$"
     },
     "metadata": {},
     "execution_count": 31
    }
   ],
   "source": [
    "# Obtener dv mediante la derivada de u\n",
    "du_value = sp.diff(u_value)\n",
    "sp.Eq(du,du_value)"
   ]
  },
  {
   "cell_type": "code",
   "execution_count": 32,
   "metadata": {},
   "outputs": [
    {
     "output_type": "execute_result",
     "data": {
      "text/plain": [
       "         x\n",
       "dv = dx⋅ℯ "
      ],
      "text/latex": "$\\displaystyle dv = dx e^{x}$"
     },
     "metadata": {},
     "execution_count": 32
    }
   ],
   "source": [
    "# Valor de dv\n",
    "dv_value = sp.exp(x)\n",
    "sp.Eq(dv,dv_value*dx)"
   ]
  },
  {
   "cell_type": "code",
   "execution_count": 33,
   "metadata": {},
   "outputs": [
    {
     "output_type": "execute_result",
     "data": {
      "text/plain": [
       "     x\n",
       "v = ℯ "
      ],
      "text/latex": "$\\displaystyle v = e^{x}$"
     },
     "metadata": {},
     "execution_count": 33
    }
   ],
   "source": [
    "# Obtener v mediante la integral de dv\n",
    "v_value = sp.integrate(dv_value,x)\n",
    "sp.Eq(v,v_value)"
   ]
  },
  {
   "cell_type": "code",
   "execution_count": 34,
   "metadata": {},
   "outputs": [
    {
     "output_type": "execute_result",
     "data": {
      "text/plain": [
       "⌠                  ⌠      \n",
       "⎮    x         x   ⎮  x   \n",
       "⎮ x⋅ℯ  dx = x⋅ℯ  - ⎮ ℯ  dx\n",
       "⌡                  ⌡      "
      ],
      "text/latex": "$\\displaystyle \\int x e^{x}\\, dx = x e^{x} - \\int e^{x}\\, dx$"
     },
     "metadata": {},
     "execution_count": 34
    }
   ],
   "source": [
    "#Reescribiendo la integral como integral por partes udv = uv- dvu\n",
    "udv = u_value*dv_value\n",
    "uv = u_value*v_value\n",
    "vdu = v_value*du_value\n",
    "sp.Eq(sp.Integral(udv),uv-sp.Integral(vdu))"
   ]
  },
  {
   "cell_type": "code",
   "execution_count": 35,
   "metadata": {},
   "outputs": [
    {
     "output_type": "execute_result",
     "data": {
      "text/plain": [
       "⌠           \n",
       "⎮  x       x\n",
       "⎮ ℯ  dx = ℯ \n",
       "⌡           "
      ],
      "text/latex": "$\\displaystyle \\int e^{x}\\, dx = e^{x}$"
     },
     "metadata": {},
     "execution_count": 35
    }
   ],
   "source": [
    "# Resolviendo integral\n",
    "solution_vdu = sp.integrate(vdu,x)\n",
    "sp.Eq(sp.Integral(vdu),solution_vdu)"
   ]
  },
  {
   "cell_type": "code",
   "execution_count": 38,
   "metadata": {},
   "outputs": [
    {
     "output_type": "execute_result",
     "data": {
      "text/plain": [
       "⌠                         \n",
       "⎮    x                   x\n",
       "⎮ x⋅ℯ  dx = C + (x - 1)⋅ℯ \n",
       "⌡                         "
      ],
      "text/latex": "$\\displaystyle \\int x e^{x}\\, dx = C + \\left(x - 1\\right) e^{x}$"
     },
     "metadata": {},
     "execution_count": 38
    }
   ],
   "source": [
    "# Solución final\n",
    "solution = uv-solution_vdu\n",
    "solution = solution.simplify()\n",
    "sp.Eq(sp.Integral(udv),solution+C)"
   ]
  },
  {
   "cell_type": "code",
   "execution_count": null,
   "metadata": {},
   "outputs": [],
   "source": []
  }
 ]
}