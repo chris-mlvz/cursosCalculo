{
 "metadata": {
  "language_info": {
   "codemirror_mode": {
    "name": "ipython",
    "version": 3
   },
   "file_extension": ".py",
   "mimetype": "text/x-python",
   "name": "python",
   "nbconvert_exporter": "python",
   "pygments_lexer": "ipython3",
   "version": "3.8.8"
  },
  "orig_nbformat": 2,
  "kernelspec": {
   "name": "python388jvsc74a57bd0c72a629dba5ae9edebcad565c17c3988d814021371aabb3db62cb04d2b10dbfe",
   "display_name": "Python 3.8.8 64-bit ('base': conda)"
  }
 },
 "nbformat": 4,
 "nbformat_minor": 2,
 "cells": [
  {
   "cell_type": "code",
   "execution_count": 1,
   "metadata": {},
   "outputs": [],
   "source": [
    "import sympy as sp\n",
    "x, y, z, a= sp.symbols('x y z a')\n",
    "sp.init_printing(use_latex='mathjax')"
   ]
  },
  {
   "cell_type": "code",
   "execution_count": null,
   "metadata": {},
   "outputs": [],
   "source": [
    "# * Multiplicación de Funciones\n",
    "result = sp.diff((x**(3)+1)*(6*x**(2)-2), x)\n",
    "result_simplify = sp.simplify(result)\n",
    "result_expand = sp.expand(result)\n",
    "result_expand"
   ]
  },
  {
   "cell_type": "code",
   "execution_count": null,
   "metadata": {},
   "outputs": [],
   "source": [
    "# * Divición de Funciones\n",
    "result = sp.diff((2*x+5)/(x**(2)+3*x), x)\n",
    "result_simplify = sp.simplify(result)\n",
    "result_expand = sp.expand(result)\n",
    "result_simplify"
   ]
  },
  {
   "cell_type": "code",
   "execution_count": null,
   "metadata": {},
   "outputs": [],
   "source": [
    "# * Divición de Funciones II\n",
    "result = sp.diff((1-2*x)/(1+2*x), x)\n",
    "result_simplify = sp.simplify(result)\n",
    "result_expand = sp.expand(result)\n",
    "result_simplify"
   ]
  },
  {
   "cell_type": "code",
   "execution_count": null,
   "metadata": {},
   "outputs": [],
   "source": [
    "# * Divición de Funciones III\n",
    "result = sp.diff((2*x)/((x+1)**(1/2)), x)\n",
    "result_simplify = sp.radsimp(result)\n",
    "result_simplify\n"
   ]
  },
  {
   "cell_type": "code",
   "execution_count": null,
   "metadata": {},
   "outputs": [],
   "source": [
    "result_simplify.subs(x,1)"
   ]
  },
  {
   "cell_type": "code",
   "execution_count": null,
   "metadata": {},
   "outputs": [],
   "source": [
    "# * Potencias\n",
    "result = sp.diff(((3*x+6)**3), x)\n",
    "result_simplify = sp.simplify(result)\n",
    "result"
   ]
  },
  {
   "cell_type": "code",
   "execution_count": null,
   "metadata": {},
   "outputs": [],
   "source": [
    "# Derivadas trigonométricas\n",
    "result = sp.diff(sp.sin(10*x**3), x)\n",
    "result_simplify = sp.trigsimp(result)\n",
    "result_simplify"
   ]
  },
  {
   "cell_type": "code",
   "execution_count": null,
   "metadata": {},
   "outputs": [],
   "source": [
    "result = sp.diff(sp.tan(sp.log(8*x**4)), x)\n",
    "result_simplify = sp.simplify(result)\n",
    "result_simplify"
   ]
  },
  {
   "cell_type": "code",
   "execution_count": null,
   "metadata": {},
   "outputs": [],
   "source": [
    "result = sp.diff(sp.atan(3*x**2), x)\n",
    "result_simplify = sp.simplify(result)\n",
    "result_simplify"
   ]
  },
  {
   "cell_type": "code",
   "execution_count": null,
   "metadata": {},
   "outputs": [],
   "source": [
    "# Derivadas de funciones algebráicas\n",
    "result = sp.diff(a**(-10*x**(3)), x)\n",
    "result_simplify = sp.simplify(result)\n",
    "result_simplify "
   ]
  },
  {
   "cell_type": "code",
   "execution_count": null,
   "metadata": {},
   "outputs": [],
   "source": [
    "# Exponenciales\n",
    "result = sp.diff(sp.exp(9*x**(2)+7), x)\n",
    "result_simplify = sp.simplify(result)\n",
    "result_simplify "
   ]
  },
  {
   "source": [
    "# Optimización"
   ],
   "cell_type": "markdown",
   "metadata": {}
  },
  {
   "cell_type": "code",
   "execution_count": null,
   "metadata": {},
   "outputs": [],
   "source": [
    "#Declaración de variables\n",
    "h, b = sym.symbols('h b')\n",
    "\n",
    "#area = b*h = 500\n",
    "#b = area/b\n",
    "area = 500\n",
    "\n",
    "# Reducción de expresión\n",
    "A1 = ((b-10)/4) * (h-4)\n",
    "A1 = A1.subs(h,area/b)\n",
    "A1 = A1.simplify()\n",
    "A1"
   ]
  },
  {
   "cell_type": "code",
   "execution_count": null,
   "metadata": {},
   "outputs": [],
   "source": [
    "#Calculo de la primera derivada\n",
    "dA1 = sp.diff(A1, b)\n",
    "dA1"
   ]
  },
  {
   "cell_type": "code",
   "execution_count": null,
   "metadata": {},
   "outputs": [],
   "source": [
    "# Resolver derivada = 0\n",
    "b_solve = sp.solve(dA1)\n",
    "b_solve"
   ]
  },
  {
   "cell_type": "code",
   "execution_count": null,
   "metadata": {},
   "outputs": [],
   "source": [
    "# Seleccionar el valor positivo\n",
    "b_solve[1]"
   ]
  },
  {
   "cell_type": "code",
   "execution_count": null,
   "metadata": {},
   "outputs": [],
   "source": [
    "#Calcular la segunda derivada\n",
    "d2A1 = sp.diff(A1, b, 2)\n",
    "d2A1 "
   ]
  },
  {
   "cell_type": "code",
   "execution_count": null,
   "metadata": {},
   "outputs": [],
   "source": [
    "# Calcular valor de h\n",
    "h = 500/b_solve[1]\n",
    "h"
   ]
  },
  {
   "cell_type": "code",
   "execution_count": null,
   "metadata": {},
   "outputs": [],
   "source": [
    "#Resultados\n",
    "#Area del terreno = 500\n",
    "#Base del tanque 25*2**(1/2)\n",
    "#Altura del tanque 10*2**(1/2)\n",
    "b_solve[1],h"
   ]
  },
  {
   "source": [
    "# Derivadas Parciales"
   ],
   "cell_type": "markdown",
   "metadata": {}
  },
  {
   "cell_type": "code",
   "execution_count": null,
   "metadata": {},
   "outputs": [],
   "source": [
    "# Derivadas Parciales\n",
    "result_x = sp.diff(x**(2)*y, x)\n",
    "result_y = sp.diff(x**(2)*y, y)\n",
    "result_x, result_y"
   ]
  },
  {
   "cell_type": "code",
   "execution_count": null,
   "metadata": {},
   "outputs": [],
   "source": [
    "result_x = sp.diff(x**(2)*y**(3)*z, x)\n",
    "result_y = sp.diff(x**(2)*y**(3)*z, y)\n",
    "result_z = sp.diff(x**(2)*y**(3)*z, z)\n",
    "result_x, result_y, result_z"
   ]
  },
  {
   "source": [
    "Gradiente"
   ],
   "cell_type": "markdown",
   "metadata": {}
  },
  {
   "cell_type": "code",
   "execution_count": null,
   "metadata": {},
   "outputs": [],
   "source": [
    "result_x = sp.diff(x**(2)-x*y, x)\n",
    "result_y = sp.diff(x**(2)-x*y, y)\n",
    "result_x, result_y"
   ]
  },
  {
   "cell_type": "code",
   "execution_count": null,
   "metadata": {},
   "outputs": [],
   "source": [
    "result_x = sp.diff(x-x*y+z**(2), x)\n",
    "result_y = sp.diff(x-x*y+z**(2), y)\n",
    "result_z = sp.diff(x-x*y+z**(2), z)\n",
    "result_x, result_y, result_z"
   ]
  },
  {
   "source": [
    "# Examen - Optimización"
   ],
   "cell_type": "markdown",
   "metadata": {}
  },
  {
   "cell_type": "code",
   "execution_count": 2,
   "metadata": {},
   "outputs": [
    {
     "output_type": "execute_result",
     "data": {
      "text/plain": [
       "  ⎛       2⎞\n",
       "x⋅⎝300 - x ⎠\n",
       "────────────\n",
       "     4      "
      ],
      "text/latex": "$\\displaystyle \\frac{x \\left(300 - x^{2}\\right)}{4}$"
     },
     "metadata": {},
     "execution_count": 2
    }
   ],
   "source": [
    "# Reducción de expresión\n",
    "V = x*x*y\n",
    "y_value = (300-x**(2))/(4*x)\n",
    "V = V.subs(y, y_value)\n",
    "V = V.simplify()\n",
    "V\n",
    "\n"
   ]
  },
  {
   "cell_type": "code",
   "execution_count": 3,
   "metadata": {},
   "outputs": [
    {
     "output_type": "execute_result",
     "data": {
      "text/plain": [
       "        2\n",
       "     3⋅x \n",
       "75 - ────\n",
       "      4  "
      ],
      "text/latex": "$\\displaystyle 75 - \\frac{3 x^{2}}{4}$"
     },
     "metadata": {},
     "execution_count": 3
    }
   ],
   "source": [
    "dV = sp.diff(V, x)\n",
    "dV"
   ]
  },
  {
   "cell_type": "code",
   "execution_count": 5,
   "metadata": {},
   "outputs": [
    {
     "output_type": "execute_result",
     "data": {
      "text/plain": [
       "-3⋅x \n",
       "─────\n",
       "  2  "
      ],
      "text/latex": "$\\displaystyle - \\frac{3 x}{2}$"
     },
     "metadata": {},
     "execution_count": 5
    }
   ],
   "source": [
    "d2V = sp.diff(V, x,2)\n",
    "d2V"
   ]
  },
  {
   "cell_type": "code",
   "execution_count": 4,
   "metadata": {},
   "outputs": [
    {
     "output_type": "execute_result",
     "data": {
      "text/plain": [
       "[-10, 10]"
      ],
      "text/latex": "$\\displaystyle \\left[ -10, \\  10\\right]$"
     },
     "metadata": {},
     "execution_count": 4
    }
   ],
   "source": [
    "x_solve = sp.solve(dV)\n",
    "x_solve"
   ]
  },
  {
   "cell_type": "code",
   "execution_count": 7,
   "metadata": {},
   "outputs": [
    {
     "output_type": "execute_result",
     "data": {
      "text/plain": [
       "5"
      ],
      "text/latex": "$\\displaystyle 5$"
     },
     "metadata": {},
     "execution_count": 7
    }
   ],
   "source": [
    "result = y_value.subs(x,x_solve[1])\n",
    "result"
   ]
  }
 ]
}