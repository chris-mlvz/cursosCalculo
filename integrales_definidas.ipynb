{
 "metadata": {
  "language_info": {
   "codemirror_mode": {
    "name": "ipython",
    "version": 3
   },
   "file_extension": ".py",
   "mimetype": "text/x-python",
   "name": "python",
   "nbconvert_exporter": "python",
   "pygments_lexer": "ipython3",
   "version": "3.8.8"
  },
  "orig_nbformat": 2,
  "kernelspec": {
   "name": "python388jvsc74a57bd0c72a629dba5ae9edebcad565c17c3988d814021371aabb3db62cb04d2b10dbfe",
   "display_name": "Python 3.8.8 64-bit ('base': conda)"
  }
 },
 "nbformat": 4,
 "nbformat_minor": 2,
 "cells": [
  {
   "source": [
    "# Integrales definidas"
   ],
   "cell_type": "markdown",
   "metadata": {}
  },
  {
   "cell_type": "code",
   "execution_count": 101,
   "metadata": {},
   "outputs": [],
   "source": [
    "import sympy as sp \n",
    "x, y, z, C, u, v, du, dv, dx = sp.symbols('x y z C u v du dv dx')\n",
    "sp.init_printing(use_latex='mathjax')"
   ]
  },
  {
   "cell_type": "code",
   "execution_count": 102,
   "metadata": {},
   "outputs": [],
   "source": [
    "def Fintegrate(function,lim_inf=0,lim_sup=0):\n",
    "    solution = sp.integrate(function, x)\n",
    "    solution_view = sp.Eq(sp.Integral(function),solution+C)\n",
    "\n",
    "    definite_solution = sp.integrate(function, (x,lim_inf,lim_sup))\n",
    "    define_solution_view = sp.Eq(sp.Integral(function,(x,lim_inf,lim_sup)),definite_solution)\n",
    "\n",
    "    values = {\n",
    "        'solution':solution, \n",
    "        'solution_view':solution_view,     \n",
    "        'definite_solution':definite_solution,\n",
    "        'definite_solution_view':define_solution_view}\n",
    "\n",
    "    return values"
   ]
  },
  {
   "source": [
    "## Integral definida simple"
   ],
   "cell_type": "markdown",
   "metadata": {}
  },
  {
   "cell_type": "code",
   "execution_count": 103,
   "metadata": {},
   "outputs": [
    {
     "output_type": "execute_result",
     "data": {
      "text/plain": [
       "   2\n",
       "3⋅x "
      ],
      "text/latex": "$\\displaystyle 3 x^{2}$"
     },
     "metadata": {},
     "execution_count": 103
    }
   ],
   "source": [
    "function = 3*x**(2)\n",
    "function"
   ]
  },
  {
   "cell_type": "code",
   "execution_count": 104,
   "metadata": {},
   "outputs": [],
   "source": [
    "integral_values = Fintegrate(function, lim_inf=0, lim_sup=3)"
   ]
  },
  {
   "cell_type": "code",
   "execution_count": 105,
   "metadata": {},
   "outputs": [
    {
     "output_type": "execute_result",
     "data": {
      "text/plain": [
       "⌠                 \n",
       "⎮    2           3\n",
       "⎮ 3⋅x  dx = C + x \n",
       "⌡                 "
      ],
      "text/latex": "$\\displaystyle \\int 3 x^{2}\\, dx = C + x^{3}$"
     },
     "metadata": {},
     "execution_count": 105
    }
   ],
   "source": [
    "integral_values['solution_view']"
   ]
  },
  {
   "cell_type": "code",
   "execution_count": 106,
   "metadata": {},
   "outputs": [
    {
     "output_type": "execute_result",
     "data": {
      "text/plain": [
       "3             \n",
       "⌠             \n",
       "⎮    2        \n",
       "⎮ 3⋅x  dx = 27\n",
       "⌡             \n",
       "0             "
      ],
      "text/latex": "$\\displaystyle \\int\\limits_{0}^{3} 3 x^{2}\\, dx = 27$"
     },
     "metadata": {},
     "execution_count": 106
    }
   ],
   "source": [
    "integral_values['definite_solution_view']"
   ]
  },
  {
   "source": [
    "## Integral definida polinomial"
   ],
   "cell_type": "markdown",
   "metadata": {}
  },
  {
   "cell_type": "code",
   "execution_count": 107,
   "metadata": {},
   "outputs": [
    {
     "output_type": "execute_result",
     "data": {
      "text/plain": [
       "1\n",
       "─\n",
       "x"
      ],
      "text/latex": "$\\displaystyle \\frac{1}{x}$"
     },
     "metadata": {},
     "execution_count": 107
    }
   ],
   "source": [
    "function = 1/x\n",
    "function"
   ]
  },
  {
   "cell_type": "code",
   "execution_count": 108,
   "metadata": {},
   "outputs": [],
   "source": [
    "integral_values = Fintegrate(function, lim_inf=1, lim_sup=sp.E)"
   ]
  },
  {
   "cell_type": "code",
   "execution_count": 109,
   "metadata": {},
   "outputs": [
    {
     "output_type": "execute_result",
     "data": {
      "text/plain": [
       "⌠                  \n",
       "⎮ 1                \n",
       "⎮ ─ dx = C + log(x)\n",
       "⎮ x                \n",
       "⌡                  "
      ],
      "text/latex": "$\\displaystyle \\int \\frac{1}{x}\\, dx = C + \\log{\\left(x \\right)}$"
     },
     "metadata": {},
     "execution_count": 109
    }
   ],
   "source": [
    "integral_values['solution_view']"
   ]
  },
  {
   "cell_type": "code",
   "execution_count": 110,
   "metadata": {},
   "outputs": [
    {
     "output_type": "execute_result",
     "data": {
      "text/plain": [
       "ℯ         \n",
       "⌠         \n",
       "⎮ 1       \n",
       "⎮ ─ dx = 1\n",
       "⎮ x       \n",
       "⌡         \n",
       "1         "
      ],
      "text/latex": "$\\displaystyle \\int\\limits_{1}^{e} \\frac{1}{x}\\, dx = 1$"
     },
     "metadata": {},
     "execution_count": 110
    }
   ],
   "source": [
    "integral_values['definite_solution_view']"
   ]
  },
  {
   "source": [
    "## Práctica: integral definida"
   ],
   "cell_type": "markdown",
   "metadata": {}
  },
  {
   "cell_type": "code",
   "execution_count": 113,
   "metadata": {},
   "outputs": [
    {
     "output_type": "execute_result",
     "data": {
      "text/plain": [
       "   4    3      2    \n",
       "5⋅x  - x  + 2⋅x  + x"
      ],
      "text/latex": "$\\displaystyle 5 x^{4} - x^{3} + 2 x^{2} + x$"
     },
     "metadata": {},
     "execution_count": 113
    }
   ],
   "source": [
    "function = x+2*x**(2)-x**(3)+5*x**(4)\n",
    "function"
   ]
  },
  {
   "cell_type": "code",
   "execution_count": 114,
   "metadata": {},
   "outputs": [
    {
     "output_type": "execute_result",
     "data": {
      "text/plain": [
       "1                           \n",
       "⌠                           \n",
       "⎮  ⎛   4    3      2    ⎞   \n",
       "⎮  ⎝5⋅x  - x  + 2⋅x  + x⎠ dx\n",
       "⌡                           \n",
       "-1                          "
      ],
      "text/latex": "$\\displaystyle \\int\\limits_{-1}^{1} \\left(5 x^{4} - x^{3} + 2 x^{2} + x\\right)\\, dx$"
     },
     "metadata": {},
     "execution_count": 114
    }
   ],
   "source": [
    "sp.Integral(function,(x,-1,1))"
   ]
  },
  {
   "cell_type": "code",
   "execution_count": 118,
   "metadata": {},
   "outputs": [],
   "source": [
    "integral_values = Fintegrate(function, lim_inf=-1, lim_sup=1)"
   ]
  },
  {
   "cell_type": "code",
   "execution_count": 119,
   "metadata": {},
   "outputs": [
    {
     "output_type": "execute_result",
     "data": {
      "text/plain": [
       "⌠                                       4      3    2\n",
       "⎮ ⎛   4    3      2    ⎞           5   x    2⋅x    x \n",
       "⎮ ⎝5⋅x  - x  + 2⋅x  + x⎠ dx = C + x  - ── + ──── + ──\n",
       "⌡                                      4     3     2 "
      ],
      "text/latex": "$\\displaystyle \\int \\left(5 x^{4} - x^{3} + 2 x^{2} + x\\right)\\, dx = C + x^{5} - \\frac{x^{4}}{4} + \\frac{2 x^{3}}{3} + \\frac{x^{2}}{2}$"
     },
     "metadata": {},
     "execution_count": 119
    }
   ],
   "source": [
    "integral_values['solution_view']"
   ]
  },
  {
   "cell_type": "code",
   "execution_count": 120,
   "metadata": {},
   "outputs": [
    {
     "output_type": "execute_result",
     "data": {
      "text/plain": [
       "1                                  \n",
       "⌠                                  \n",
       "⎮  ⎛   4    3      2    ⎞          \n",
       "⎮  ⎝5⋅x  - x  + 2⋅x  + x⎠ dx = 10/3\n",
       "⌡                                  \n",
       "-1                                 "
      ],
      "text/latex": "$\\displaystyle \\int\\limits_{-1}^{1} \\left(5 x^{4} - x^{3} + 2 x^{2} + x\\right)\\, dx = \\frac{10}{3}$"
     },
     "metadata": {},
     "execution_count": 120
    }
   ],
   "source": [
    "integral_values['definite_solution_view']"
   ]
  },
  {
   "source": [
    "## Práctica: ley de sustitución"
   ],
   "cell_type": "markdown",
   "metadata": {}
  },
  {
   "cell_type": "code",
   "execution_count": 123,
   "metadata": {},
   "outputs": [
    {
     "output_type": "execute_result",
     "data": {
      "text/plain": [
       "    1    \n",
       "─────────\n",
       "  _______\n",
       "╲╱ x - 1 "
      ],
      "text/latex": "$\\displaystyle \\frac{1}{\\sqrt{x - 1}}$"
     },
     "metadata": {},
     "execution_count": 123
    }
   ],
   "source": [
    "function = 1/sp.sqrt(x-1)\n",
    "function"
   ]
  },
  {
   "cell_type": "code",
   "execution_count": 124,
   "metadata": {},
   "outputs": [
    {
     "output_type": "execute_result",
     "data": {
      "text/plain": [
       "3             \n",
       "⌠             \n",
       "⎮     1       \n",
       "⎮ ───────── dx\n",
       "⎮   _______   \n",
       "⎮ ╲╱ x - 1    \n",
       "⌡             \n",
       "2             "
      ],
      "text/latex": "$\\displaystyle \\int\\limits_{2}^{3} \\frac{1}{\\sqrt{x - 1}}\\, dx$"
     },
     "metadata": {},
     "execution_count": 124
    }
   ],
   "source": [
    "sp.Integral(function,(x, 2, 3))"
   ]
  },
  {
   "cell_type": "code",
   "execution_count": 128,
   "metadata": {},
   "outputs": [],
   "source": [
    "integral_values = Fintegrate(function, lim_inf=2, lim_sup=3)"
   ]
  },
  {
   "cell_type": "code",
   "execution_count": 129,
   "metadata": {},
   "outputs": [
    {
     "output_type": "execute_result",
     "data": {
      "text/plain": [
       "⌠                               \n",
       "⎮     1                  _______\n",
       "⎮ ───────── dx = C + 2⋅╲╱ x - 1 \n",
       "⎮   _______                     \n",
       "⎮ ╲╱ x - 1                      \n",
       "⌡                               "
      ],
      "text/latex": "$\\displaystyle \\int \\frac{1}{\\sqrt{x - 1}}\\, dx = C + 2 \\sqrt{x - 1}$"
     },
     "metadata": {},
     "execution_count": 129
    }
   ],
   "source": [
    "integral_values['solution_view']"
   ]
  },
  {
   "cell_type": "code",
   "execution_count": 136,
   "metadata": {},
   "outputs": [
    {
     "output_type": "execute_result",
     "data": {
      "text/plain": [
       "3                         \n",
       "⌠                         \n",
       "⎮     1                   \n",
       "⎮ ───────── dx = -2 + 2⋅√2\n",
       "⎮   _______               \n",
       "⎮ ╲╱ x - 1                \n",
       "⌡                         \n",
       "2                         "
      ],
      "text/latex": "$\\displaystyle \\int\\limits_{2}^{3} \\frac{1}{\\sqrt{x - 1}}\\, dx = -2 + 2 \\sqrt{2}$"
     },
     "metadata": {},
     "execution_count": 136
    }
   ],
   "source": [
    "integral_values['definite_solution_view']"
   ]
  },
  {
   "cell_type": "code",
   "execution_count": 137,
   "metadata": {},
   "outputs": [
    {
     "output_type": "execute_result",
     "data": {
      "text/plain": [
       "0.828427124746190"
      ],
      "text/latex": "$\\displaystyle 0.82842712474619$"
     },
     "metadata": {},
     "execution_count": 137
    }
   ],
   "source": [
    "integral_values['definite_solution'].evalf()"
   ]
  }
 ]
}