{
 "metadata": {
  "language_info": {
   "codemirror_mode": {
    "name": "ipython",
    "version": 3
   },
   "file_extension": ".py",
   "mimetype": "text/x-python",
   "name": "python",
   "nbconvert_exporter": "python",
   "pygments_lexer": "ipython3",
   "version": "3.8.8"
  },
  "orig_nbformat": 2,
  "kernelspec": {
   "name": "python388jvsc74a57bd0c72a629dba5ae9edebcad565c17c3988d814021371aabb3db62cb04d2b10dbfe",
   "display_name": "Python 3.8.8 64-bit ('base': conda)"
  }
 },
 "nbformat": 4,
 "nbformat_minor": 2,
 "cells": [
  {
   "source": [
    "# Intrgrales"
   ],
   "cell_type": "markdown",
   "metadata": {}
  },
  {
   "cell_type": "code",
   "execution_count": 19,
   "metadata": {},
   "outputs": [],
   "source": [
    "import sympy as sp\n",
    "x, y, z, a, C= sp.symbols('x y z a C')\n",
    "sp.init_printing(use_latex='mathjax')"
   ]
  },
  {
   "source": [
    "Integral e^x"
   ],
   "cell_type": "markdown",
   "metadata": {}
  },
  {
   "cell_type": "code",
   "execution_count": 20,
   "metadata": {},
   "outputs": [
    {
     "output_type": "execute_result",
     "data": {
      "text/plain": [
       "     x\n",
       "C + ℯ "
      ],
      "text/latex": "$\\displaystyle C + e^{x}$"
     },
     "metadata": {},
     "execution_count": 20
    }
   ],
   "source": [
    "#Integral e^x\n",
    "result = sp.integrate(sp.exp(x), x)\n",
    "# result_simplify = sp.simplify(result)\n",
    "# result_expand = sp.expand(result)\n",
    "result + C"
   ]
  },
  {
   "cell_type": "code",
   "execution_count": 22,
   "metadata": {},
   "outputs": [
    {
     "output_type": "execute_result",
     "data": {
      "text/plain": [
       "     2⋅x\n",
       "    ℯ   \n",
       "C + ────\n",
       "     2  "
      ],
      "text/latex": "$\\displaystyle C + \\frac{e^{2 x}}{2}$"
     },
     "metadata": {},
     "execution_count": 22
    }
   ],
   "source": [
    "result = sp.integrate(sp.exp(2*x), x)\n",
    "result + C"
   ]
  },
  {
   "source": [
    "Integral a^x"
   ],
   "cell_type": "markdown",
   "metadata": {}
  },
  {
   "cell_type": "code",
   "execution_count": 28,
   "metadata": {},
   "outputs": [
    {
     "output_type": "execute_result",
     "data": {
      "text/plain": [
       "    ⎛⎧   x                  ⎞\n",
       "    ⎜⎪  a                   ⎟\n",
       "    ⎜⎪──────  for log(a) ≠ 0⎟\n",
       "C + ⎜⎨log(a)                ⎟\n",
       "    ⎜⎪                      ⎟\n",
       "    ⎜⎪  x       otherwise   ⎟\n",
       "    ⎝⎩                      ⎠"
      ],
      "text/latex": "$\\displaystyle C + \\begin{cases} \\frac{a^{x}}{\\log{\\left(a \\right)}} & \\text{for}\\: \\log{\\left(a \\right)} \\neq 0 \\\\x & \\text{otherwise} \\end{cases}$"
     },
     "metadata": {},
     "execution_count": 28
    }
   ],
   "source": [
    "#Integral a^x\n",
    "result = sp.integrate(a**x, x)\n",
    "result + C"
   ]
  },
  {
   "cell_type": "code",
   "execution_count": 30,
   "metadata": {},
   "outputs": [
    {
     "output_type": "execute_result",
     "data": {
      "text/plain": [
       "    ⎛⎧   3⋅x                    ⎞\n",
       "    ⎜⎪  a                       ⎟\n",
       "    ⎜⎪────────  for 3⋅log(a) ≠ 0⎟\n",
       "C + ⎜⎨3⋅log(a)                  ⎟\n",
       "    ⎜⎪                          ⎟\n",
       "    ⎜⎪   x         otherwise    ⎟\n",
       "    ⎝⎩                          ⎠"
      ],
      "text/latex": "$\\displaystyle C + \\begin{cases} \\frac{a^{3 x}}{3 \\log{\\left(a \\right)}} & \\text{for}\\: 3 \\log{\\left(a \\right)} \\neq 0 \\\\x & \\text{otherwise} \\end{cases}$"
     },
     "metadata": {},
     "execution_count": 30
    }
   ],
   "source": [
    "result = sp.integrate(a**(3*x), x)\n",
    "result + C"
   ]
  },
  {
   "source": [
    "Integral x^n"
   ],
   "cell_type": "markdown",
   "metadata": {}
  },
  {
   "cell_type": "code",
   "execution_count": 31,
   "metadata": {},
   "outputs": [
    {
     "output_type": "execute_result",
     "data": {
      "text/plain": [
       "     6\n",
       "    x \n",
       "C + ──\n",
       "    6 "
      ],
      "text/latex": "$\\displaystyle C + \\frac{x^{6}}{6}$"
     },
     "metadata": {},
     "execution_count": 31
    }
   ],
   "source": [
    "#Integral x^n\n",
    "result = sp.integrate(x**5, x)\n",
    "result + C"
   ]
  },
  {
   "source": [
    "Suma de Integrales"
   ],
   "cell_type": "markdown",
   "metadata": {}
  },
  {
   "cell_type": "code",
   "execution_count": 35,
   "metadata": {},
   "outputs": [
    {
     "output_type": "execute_result",
     "data": {
      "text/plain": [
       "       3       \n",
       "    5⋅x     2  \n",
       "C + ──── - ────\n",
       "     3        3\n",
       "           3⋅x "
      ],
      "text/latex": "$\\displaystyle C + \\frac{5 x^{3}}{3} - \\frac{2}{3 x^{3}}$"
     },
     "metadata": {},
     "execution_count": 35
    }
   ],
   "source": [
    "# Suma de integrales\n",
    "result = 5*sp.integrate(x**2, x) + 2*sp.integrate(x**-4, x)\n",
    "result + C"
   ]
  },
  {
   "source": [
    "Intrales trigonométricas"
   ],
   "cell_type": "markdown",
   "metadata": {}
  },
  {
   "cell_type": "code",
   "execution_count": 36,
   "metadata": {},
   "outputs": [
    {
     "output_type": "execute_result",
     "data": {
      "text/plain": [
       "    cos(4⋅x)\n",
       "C - ────────\n",
       "       4    "
      ],
      "text/latex": "$\\displaystyle C - \\frac{\\cos{\\left(4 x \\right)}}{4}$"
     },
     "metadata": {},
     "execution_count": 36
    }
   ],
   "source": [
    "result = sp.integrate(sp.sin(4*x),x)\n",
    "result + C"
   ]
  },
  {
   "source": [
    "## Integrales definidas"
   ],
   "cell_type": "markdown",
   "metadata": {}
  },
  {
   "cell_type": "code",
   "execution_count": 40,
   "metadata": {},
   "outputs": [
    {
     "output_type": "execute_result",
     "data": {
      "text/plain": [
       "⎛     3     ⎞\n",
       "⎜    x      ⎟\n",
       "⎜C + ──, 8/3⎟\n",
       "⎝    3      ⎠"
      ],
      "text/latex": "$\\displaystyle \\left( C + \\frac{x^{3}}{3}, \\  \\frac{8}{3}\\right)$"
     },
     "metadata": {},
     "execution_count": 40
    }
   ],
   "source": [
    "result_i = sp.integrate(x**2,x)\n",
    "result_d = sp.integrate(x**2,(x,0,2))\n",
    "result_i + C, result_d"
   ]
  },
  {
   "cell_type": "code",
   "execution_count": null,
   "metadata": {},
   "outputs": [],
   "source": []
  }
 ]
}